{
 "cells": [
  {
   "cell_type": "markdown",
   "id": "c64a8271",
   "metadata": {},
   "source": [
    "### 예외처리\n",
    "- 코드 문법 오류, 실행 시 발생하는 에러를 처리하는 문법\n",
    "- 파일 경로를 잘못한 경우, 숫자를 0으로 나누었을 때 등"
   ]
  },
  {
   "cell_type": "code",
   "execution_count": 2,
   "id": "d2129589",
   "metadata": {},
   "outputs": [
    {
     "name": "stdout",
     "output_type": "stream",
     "text": [
      "오류 발생\n"
     ]
    }
   ],
   "source": [
    "try :    \n",
    "    f = open(\"./abcd.txt\",'r')\n",
    "    f.close()\n",
    "except:\n",
    "    print(\"오류 발생\")"
   ]
  },
  {
   "cell_type": "code",
   "execution_count": null,
   "id": "b3c0c57d",
   "metadata": {},
   "outputs": [],
   "source": []
  }
 ],
 "metadata": {
  "kernelspec": {
   "display_name": "Python 3 (ipykernel)",
   "language": "python",
   "name": "python3"
  },
  "language_info": {
   "codemirror_mode": {
    "name": "ipython",
    "version": 3
   },
   "file_extension": ".py",
   "mimetype": "text/x-python",
   "name": "python",
   "nbconvert_exporter": "python",
   "pygments_lexer": "ipython3",
   "version": "3.9.12"
  }
 },
 "nbformat": 4,
 "nbformat_minor": 5
}
