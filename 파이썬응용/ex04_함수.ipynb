{
 "cells": [
  {
   "cell_type": "markdown",
   "id": "66f7154c",
   "metadata": {},
   "source": [
    "### 함수 정의 \n",
    "- 함수의 동작 방식을 정리 해 놓는 것"
   ]
  },
  {
   "cell_type": "code",
   "execution_count": 1,
   "id": "60dc2ef8",
   "metadata": {},
   "outputs": [],
   "source": [
    "def sumAdd(a,b):\n",
    "    result = a+b\n",
    "    return result"
   ]
  },
  {
   "cell_type": "markdown",
   "id": "89032ff4",
   "metadata": {},
   "source": [
    "### 함수 호출 "
   ]
  },
  {
   "cell_type": "code",
   "execution_count": 5,
   "id": "9721922b",
   "metadata": {},
   "outputs": [
    {
     "data": {
      "text/plain": [
       "30"
      ]
     },
     "execution_count": 5,
     "metadata": {},
     "output_type": "execute_result"
    }
   ],
   "source": [
    "sumAdd(10,20)"
   ]
  },
  {
   "cell_type": "markdown",
   "id": "a9afbc30",
   "metadata": {},
   "source": [
    "예제 "
   ]
  },
  {
   "cell_type": "code",
   "execution_count": 20,
   "id": "3b82fd5b",
   "metadata": {},
   "outputs": [],
   "source": [
    "def LargerNumber(a,b):\n",
    "    return a if a>=b else b"
   ]
  },
  {
   "cell_type": "code",
   "execution_count": 21,
   "id": "b97bec9a",
   "metadata": {},
   "outputs": [
    {
     "name": "stdout",
     "output_type": "stream",
     "text": [
      "첫 번째 정수 입력 : 5\n",
      "두 번째 정수 입력 : 10\n",
      "큰 수 확인 : 10\n"
     ]
    }
   ],
   "source": [
    "num1 = int(input(\"첫 번째 정수 입력 : \"))\n",
    "num2 = int(input(\"두 번째 정수 입력 : \"))\n",
    "\n",
    "result = LargerNumber(num1,num2)\n",
    "print(f\"큰 수 확인 : {result}\")"
   ]
  },
  {
   "cell_type": "markdown",
   "id": "b7e30b3b",
   "metadata": {},
   "source": [
    "예제2"
   ]
  },
  {
   "cell_type": "code",
   "execution_count": 23,
   "id": "bbb4bbaf",
   "metadata": {},
   "outputs": [
    {
     "name": "stdout",
     "output_type": "stream",
     "text": [
      "Base 입력 : 3\n",
      "N 입력 : 4\n",
      "결과 확인 : 81\n"
     ]
    }
   ],
   "source": [
    "def powerN(a,b):\n",
    "    return a**b\n",
    "\n",
    "base = int(input(\"Base 입력 : \"))\n",
    "n = int(input(\"N 입력 : \"))\n",
    "result = powerN(base,n)\n",
    "\n",
    "print(\"결과 확인 :\",result)"
   ]
  },
  {
   "cell_type": "markdown",
   "id": "92d95dc6",
   "metadata": {},
   "source": [
    "예제3"
   ]
  },
  {
   "cell_type": "code",
   "execution_count": 26,
   "id": "d8eedacc",
   "metadata": {},
   "outputs": [
    {
     "name": "stdout",
     "output_type": "stream",
     "text": [
      "첫 번째 정수 입력 : 5\n",
      "두 번째 정수 입력 : 80\n",
      "연산자 입력(+,-) : -\n",
      "75\n"
     ]
    }
   ],
   "source": [
    "num1 = int(input(\"첫 번째 정수 입력 : \"))\n",
    "num2 = int(input(\"두 번째 정수 입력 : \"))\n",
    "op = input(\"연산자 입력(+,-) : \")\n",
    "\n",
    "def cal(num1,num2,op):\n",
    "    return num1+num2 if op==\"+\" else max(num1,num2)-min(num1,num2)\n",
    "\n",
    "result = cal(num1,num2,op)\n",
    "print(result)"
   ]
  },
  {
   "cell_type": "markdown",
   "id": "f6f58f54",
   "metadata": {},
   "source": [
    "###  2. 매개변수를 지정하여 호출하기"
   ]
  },
  {
   "cell_type": "code",
   "execution_count": 29,
   "id": "bdf73307",
   "metadata": {},
   "outputs": [
    {
     "data": {
      "text/plain": [
       "25"
      ]
     },
     "execution_count": 29,
     "metadata": {},
     "output_type": "execute_result"
    }
   ],
   "source": [
    "cal(op='-',num1=25,num2=50)       #이름을 지정하면 순서 상관x"
   ]
  },
  {
   "cell_type": "markdown",
   "id": "bc255bf6",
   "metadata": {},
   "source": [
    "### 3. 매개변수 값 상관없이 호출 "
   ]
  },
  {
   "cell_type": "code",
   "execution_count": 34,
   "id": "9819479a",
   "metadata": {},
   "outputs": [],
   "source": [
    "def add_many(*args):\n",
    "    total = 0\n",
    "    for i in args:\n",
    "        total+=i\n",
    "    return total"
   ]
  },
  {
   "cell_type": "code",
   "execution_count": 35,
   "id": "73fe6226",
   "metadata": {},
   "outputs": [
    {
     "data": {
      "text/plain": [
       "17"
      ]
     },
     "execution_count": 35,
     "metadata": {},
     "output_type": "execute_result"
    }
   ],
   "source": [
    "add_many(3,5,2,1,5,1)"
   ]
  },
  {
   "cell_type": "markdown",
   "id": "57f98602",
   "metadata": {},
   "source": [
    "### 4. return은 한번만 실행 가능 \n",
    "- return을 만나면 함수가 종료 됨\n",
    "- 특수한 경우 : 함수의 종료"
   ]
  },
  {
   "cell_type": "code",
   "execution_count": 47,
   "id": "4c77b273",
   "metadata": {},
   "outputs": [],
   "source": [
    "def say_nick(nick):\n",
    "    if nick ==\"바보\":\n",
    "     return\n",
    "    \n",
    "    print(f\"나의 별명은 {nick}입니다.\")"
   ]
  },
  {
   "cell_type": "code",
   "execution_count": 49,
   "id": "c62369d6",
   "metadata": {},
   "outputs": [],
   "source": [
    "say_nick('바보')"
   ]
  },
  {
   "cell_type": "markdown",
   "id": "086ccae4",
   "metadata": {},
   "source": [
    "### 5. 매개변수 기본값 설정하기 "
   ]
  },
  {
   "cell_type": "code",
   "execution_count": 51,
   "id": "914b4533",
   "metadata": {},
   "outputs": [
    {
     "data": {
      "text/plain": [
       "30"
      ]
     },
     "execution_count": 51,
     "metadata": {},
     "output_type": "execute_result"
    }
   ],
   "source": [
    "def cal(num1,num2,op='+'):\n",
    "    '''+가 기본연산'''\n",
    "    return num1+num2 if op==\"+\" else max(num1,num2)-min(num1,num2)\n",
    "\n",
    "cal(10,20)"
   ]
  },
  {
   "cell_type": "markdown",
   "id": "f03dee90",
   "metadata": {},
   "source": [
    "### 6. 함수 안에서 선언한 변수의 효력 범위 "
   ]
  },
  {
   "cell_type": "code",
   "execution_count": 54,
   "id": "209eb144",
   "metadata": {},
   "outputs": [
    {
     "ename": "SyntaxError",
     "evalue": "invalid syntax (3964748550.py, line 3)",
     "output_type": "error",
     "traceback": [
      "\u001b[1;36m  Input \u001b[1;32mIn [54]\u001b[1;36m\u001b[0m\n\u001b[1;33m    global a = 10\u001b[0m\n\u001b[1;37m             ^\u001b[0m\n\u001b[1;31mSyntaxError\u001b[0m\u001b[1;31m:\u001b[0m invalid syntax\n"
     ]
    }
   ],
   "source": [
    "a=1\n",
    "def vartest(a):\n",
    "    a = 10\n",
    "\n",
    "vartest(a)\n",
    "print(a)"
   ]
  },
  {
   "cell_type": "code",
   "execution_count": 55,
   "id": "93b8d7d0",
   "metadata": {},
   "outputs": [
    {
     "name": "stdout",
     "output_type": "stream",
     "text": [
      "10\n"
     ]
    }
   ],
   "source": [
    "a=1\n",
    "def vartest(b):\n",
    "    global a\n",
    "    b=1\n",
    "    a = 10\n",
    "\n",
    "vartest(a)\n",
    "print(a)"
   ]
  },
  {
   "cell_type": "markdown",
   "id": "82ef6fe2",
   "metadata": {},
   "source": [
    "### 7. lambda 함수 "
   ]
  },
  {
   "cell_type": "code",
   "execution_count": 56,
   "id": "d1f36196",
   "metadata": {},
   "outputs": [
    {
     "data": {
      "text/plain": [
       "3"
      ]
     },
     "execution_count": 56,
     "metadata": {},
     "output_type": "execute_result"
    }
   ],
   "source": [
    "# 함수 정의\n",
    "add = lambda a,b : a+b\n",
    "\n",
    "add(1,2)"
   ]
  },
  {
   "cell_type": "code",
   "execution_count": null,
   "id": "35c62174",
   "metadata": {},
   "outputs": [],
   "source": []
  }
 ],
 "metadata": {
  "kernelspec": {
   "display_name": "Python 3 (ipykernel)",
   "language": "python",
   "name": "python3"
  },
  "language_info": {
   "codemirror_mode": {
    "name": "ipython",
    "version": 3
   },
   "file_extension": ".py",
   "mimetype": "text/x-python",
   "name": "python",
   "nbconvert_exporter": "python",
   "pygments_lexer": "ipython3",
   "version": "3.9.12"
  }
 },
 "nbformat": 4,
 "nbformat_minor": 5
}
