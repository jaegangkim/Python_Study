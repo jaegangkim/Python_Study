{
 "cells": [
  {
   "cell_type": "code",
   "execution_count": 1,
   "id": "c5a303fc",
   "metadata": {},
   "outputs": [],
   "source": [
    "s = '20010331Rainy'"
   ]
  },
  {
   "cell_type": "code",
   "execution_count": 2,
   "id": "a2749b0a",
   "metadata": {},
   "outputs": [],
   "source": [
    "year = s[:4]\n",
    "day = s[4:8]\n",
    "weather = s[8:]"
   ]
  },
  {
   "cell_type": "code",
   "execution_count": 5,
   "id": "8110db47",
   "metadata": {},
   "outputs": [
    {
     "name": "stdout",
     "output_type": "stream",
     "text": [
      "year : 2001\n",
      "day : 0331\n",
      "weather : Rainy\n"
     ]
    }
   ],
   "source": [
    "print('year : '+year+'\\nday : '+day+'\\nweather : '+weather)"
   ]
  },
  {
   "cell_type": "markdown",
   "id": "fb6a770d",
   "metadata": {},
   "source": [
    "### 5. 문자열 포멧팅 \n",
    "- 문자열에서 변하는 값들을 연결 할 때 사용하는 문법"
   ]
  },
  {
   "cell_type": "code",
   "execution_count": 9,
   "id": "29dc0b5a",
   "metadata": {},
   "outputs": [
    {
     "ename": "TypeError",
     "evalue": "can only concatenate str (not \"int\") to str",
     "output_type": "error",
     "traceback": [
      "\u001b[1;31m---------------------------------------------------------------------------\u001b[0m",
      "\u001b[1;31mTypeError\u001b[0m                                 Traceback (most recent call last)",
      "Input \u001b[1;32mIn [9]\u001b[0m, in \u001b[0;36m<cell line: 4>\u001b[1;34m()\u001b[0m\n\u001b[0;32m      2\u001b[0m height \u001b[38;5;241m=\u001b[39m \u001b[38;5;241m180\u001b[39m\n\u001b[0;32m      3\u001b[0m weight \u001b[38;5;241m=\u001b[39m \u001b[38;5;241m75\u001b[39m\n\u001b[1;32m----> 4\u001b[0m \u001b[38;5;28mprint\u001b[39m(\u001b[38;5;124;43m\"\u001b[39;49m\u001b[38;5;124;43m이름 : \u001b[39;49m\u001b[38;5;124;43m\"\u001b[39;49m\u001b[38;5;241;43m+\u001b[39;49m\u001b[43mname\u001b[49m\u001b[38;5;241;43m+\u001b[39;49m\u001b[38;5;124;43m\"\u001b[39;49m\u001b[38;5;124;43m, 키 : \u001b[39;49m\u001b[38;5;124;43m\"\u001b[39;49m\u001b[38;5;241;43m+\u001b[39;49m\u001b[43mheight\u001b[49m\u001b[38;5;241m+\u001b[39m\u001b[38;5;124m\"\u001b[39m\u001b[38;5;124m, 몸무게 : \u001b[39m\u001b[38;5;124m\"\u001b[39m\u001b[38;5;241m+\u001b[39mweight)\n",
      "\u001b[1;31mTypeError\u001b[0m: can only concatenate str (not \"int\") to str"
     ]
    }
   ],
   "source": [
    "name =\"김재강\"\n",
    "height = 180\n",
    "weight = 75\n",
    "print(\"이름 : \"+name+\", 키 : \"+height+\", 몸무게 : \"+weight)"
   ]
  },
  {
   "cell_type": "code",
   "execution_count": 8,
   "id": "c6bd45d3",
   "metadata": {},
   "outputs": [
    {
     "name": "stdout",
     "output_type": "stream",
     "text": [
      "이름 : 김재강, 키 : 180, 몸무게 : 75\n"
     ]
    }
   ],
   "source": [
    "name =\"김재강\"\n",
    "height = 180\n",
    "weight = 75\n",
    "print(\"이름 : %s, 키 : %s, 몸무게 : %s\" % (name,height,weight))"
   ]
  },
  {
   "cell_type": "code",
   "execution_count": 16,
   "id": "b3cce5d9",
   "metadata": {},
   "outputs": [
    {
     "name": "stdout",
     "output_type": "stream",
     "text": [
      "정수 : 10, 실수 : 3.140000\n"
     ]
    }
   ],
   "source": [
    "num = 10\n",
    "pie = 3.14\n",
    "print(\"정수 : %d, 실수 : %f\"%(num, pie))"
   ]
  },
  {
   "cell_type": "code",
   "execution_count": 17,
   "id": "aa570e57",
   "metadata": {},
   "outputs": [
    {
     "name": "stdout",
     "output_type": "stream",
     "text": [
      "정수 : 10 실수 : 3.14\n"
     ]
    }
   ],
   "source": [
    "# f포맷팅\n",
    "print(f\"정수 : {num} 실수 : {pie}\")"
   ]
  },
  {
   "cell_type": "markdown",
   "id": "1d0949ac",
   "metadata": {},
   "source": [
    "### 6. 문자열 함수"
   ]
  },
  {
   "cell_type": "code",
   "execution_count": 18,
   "id": "d4a2fd45",
   "metadata": {},
   "outputs": [
    {
     "data": {
      "text/plain": [
       "3"
      ]
     },
     "execution_count": 18,
     "metadata": {},
     "output_type": "execute_result"
    }
   ],
   "source": [
    "str1 = \"apple apple orange apple\"\n",
    "str1.count(\"apple\")"
   ]
  },
  {
   "cell_type": "code",
   "execution_count": 22,
   "id": "a5916827",
   "metadata": {},
   "outputs": [
    {
     "data": {
      "text/plain": [
       "1"
      ]
     },
     "execution_count": 22,
     "metadata": {},
     "output_type": "execute_result"
    }
   ],
   "source": [
    "str1.find(\"orange\")"
   ]
  },
  {
   "cell_type": "code",
   "execution_count": 21,
   "id": "2258f580",
   "metadata": {},
   "outputs": [
    {
     "data": {
      "text/plain": [
       "-1"
      ]
     },
     "execution_count": 21,
     "metadata": {},
     "output_type": "execute_result"
    }
   ],
   "source": [
    "str1.find(\"DDDD\")"
   ]
  },
  {
   "cell_type": "code",
   "execution_count": 25,
   "id": "e7104291",
   "metadata": {},
   "outputs": [
    {
     "data": {
      "text/plain": [
       "'APPLE IS'"
      ]
     },
     "execution_count": 25,
     "metadata": {},
     "output_type": "execute_result"
    }
   ],
   "source": [
    "str2 = \"Apple is\"\n",
    "str2.upper()"
   ]
  },
  {
   "cell_type": "code",
   "execution_count": 26,
   "id": "d3e23615",
   "metadata": {},
   "outputs": [
    {
     "name": "stdout",
     "output_type": "stream",
     "text": [
      "너무너무 배고파요 밥 주세요\n"
     ]
    }
   ],
   "source": [
    "str3 = \"  너무너무 배고파요 밥 주세요  \"\n",
    "print(str3.strip())"
   ]
  },
  {
   "cell_type": "code",
   "execution_count": 29,
   "id": "30ff326c",
   "metadata": {},
   "outputs": [
    {
     "name": "stdout",
     "output_type": "stream",
     "text": [
      "  너무너무 배고파요 간식 주세요  \n"
     ]
    }
   ],
   "source": [
    "print(str3.replace(\"밥\",\"간식\"))"
   ]
  },
  {
   "cell_type": "code",
   "execution_count": 31,
   "id": "c2ce5400",
   "metadata": {},
   "outputs": [],
   "source": [
    "str3 = str3.replace(\"밥\",\"간식\")"
   ]
  },
  {
   "cell_type": "code",
   "execution_count": 34,
   "id": "c61c3f80",
   "metadata": {},
   "outputs": [
    {
     "name": "stdout",
     "output_type": "stream",
     "text": [
      "['쿠키', '사이다', '콜라', '피자']\n"
     ]
    }
   ],
   "source": [
    "str4 = \"쿠키,사이다,콜라,피자\"\n",
    "result = str4.split(',')\n",
    "print(result)"
   ]
  },
  {
   "cell_type": "markdown",
   "id": "20863785",
   "metadata": {},
   "source": [
    "###  6. 연산자"
   ]
  },
  {
   "cell_type": "code",
   "execution_count": 1,
   "id": "bf17860e",
   "metadata": {},
   "outputs": [
    {
     "name": "stdout",
     "output_type": "stream",
     "text": [
      "3.3333333333333335\n",
      "1\n",
      "3\n"
     ]
    }
   ],
   "source": [
    "# 산술 연산자\n",
    "num = 10\n",
    "num2 = 3\n",
    "print(num/num2)\n",
    "print(num%num2)\n",
    "print(num//num2)"
   ]
  },
  {
   "cell_type": "code",
   "execution_count": 2,
   "id": "e037d6bf",
   "metadata": {},
   "outputs": [
    {
     "name": "stdout",
     "output_type": "stream",
     "text": [
      "8\n"
     ]
    }
   ],
   "source": [
    "# 지수연산자\n",
    "print(2**3)    # 2^3"
   ]
  },
  {
   "cell_type": "code",
   "execution_count": 3,
   "id": "22251634",
   "metadata": {},
   "outputs": [
    {
     "name": "stdout",
     "output_type": "stream",
     "text": [
      "False\n",
      "True\n"
     ]
    }
   ],
   "source": [
    "#비교연산자\n",
    "print(2==3)\n",
    "print(10>7)"
   ]
  },
  {
   "cell_type": "code",
   "execution_count": 4,
   "id": "0e02c873",
   "metadata": {},
   "outputs": [
    {
     "name": "stdout",
     "output_type": "stream",
     "text": [
      "False\n"
     ]
    }
   ],
   "source": [
    "# 논리연산자\n",
    "print(True and False)"
   ]
  },
  {
   "cell_type": "markdown",
   "id": "d7ef0ea9",
   "metadata": {},
   "source": [
    "예제1"
   ]
  },
  {
   "cell_type": "code",
   "execution_count": 6,
   "id": "59a457e9",
   "metadata": {},
   "outputs": [
    {
     "name": "stdout",
     "output_type": "stream",
     "text": [
      "더하기결과 : 10\n",
      "빼기 결과 : 4\n",
      "곱하기 결과 : 21\n",
      "나누기 결과 : 2.3333333333333335\n"
     ]
    }
   ],
   "source": [
    "num1 = 7\n",
    "num2 = 3\n",
    "print(f\"더하기결과 : {num1+num2}\\n빼기 결과 : {num1-num2}\\n곱하기 결과 : {num1*num2}\\n나누기 결과 : {num1/num2}\")"
   ]
  },
  {
   "cell_type": "markdown",
   "id": "347402c0",
   "metadata": {},
   "source": [
    "예제 2"
   ]
  },
  {
   "cell_type": "code",
   "execution_count": 12,
   "id": "115c192d",
   "metadata": {},
   "outputs": [
    {
     "name": "stdout",
     "output_type": "stream",
     "text": [
      "결과 확인 : 400\n"
     ]
    }
   ],
   "source": [
    "num = 456\n",
    "print(f\"결과 확인 : {num//100*100}\")"
   ]
  },
  {
   "cell_type": "code",
   "execution_count": 17,
   "id": "65b2d81d",
   "metadata": {},
   "outputs": [
    {
     "name": "stdout",
     "output_type": "stream",
     "text": [
      "이름을 입력하세요 : dd\n"
     ]
    }
   ],
   "source": [
    "# input\n",
    "\n",
    "name =input(\"이름을 입력하세요 : \")"
   ]
  },
  {
   "cell_type": "code",
   "execution_count": 16,
   "id": "1082568a",
   "metadata": {},
   "outputs": [
    {
     "name": "stdout",
     "output_type": "stream",
     "text": [
      "나이 : 22\n"
     ]
    },
    {
     "data": {
      "text/plain": [
       "str"
      ]
     },
     "execution_count": 16,
     "metadata": {},
     "output_type": "execute_result"
    }
   ],
   "source": [
    "age =input(\"나이 : \")\n",
    "type(age)"
   ]
  },
  {
   "cell_type": "code",
   "execution_count": 18,
   "id": "ce033e77",
   "metadata": {},
   "outputs": [
    {
     "data": {
      "text/plain": [
       "int"
      ]
     },
     "execution_count": 18,
     "metadata": {},
     "output_type": "execute_result"
    }
   ],
   "source": [
    "type(int(age))"
   ]
  },
  {
   "cell_type": "markdown",
   "id": "3d4fbc1d",
   "metadata": {},
   "source": [
    "지수 연산자 예제"
   ]
  },
  {
   "cell_type": "code",
   "execution_count": 23,
   "id": "d5d06768",
   "metadata": {},
   "outputs": [
    {
     "name": "stdout",
     "output_type": "stream",
     "text": [
      "정수 입력 : 2\n",
      "지수 입력 : 3\n",
      "2의 3승은 8입니다.\n"
     ]
    }
   ],
   "source": [
    "a = int(input(\"정수 입력 : \"))\n",
    "b = int(input(\"지수 입력 : \"))\n",
    "print(f\"{a}의 {b}승은 {a**b}입니다.\")"
   ]
  },
  {
   "cell_type": "markdown",
   "id": "54a17678",
   "metadata": {},
   "source": [
    "삼항연산자 예제"
   ]
  },
  {
   "cell_type": "code",
   "execution_count": 25,
   "id": "99359bd9",
   "metadata": {},
   "outputs": [
    {
     "name": "stdout",
     "output_type": "stream",
     "text": [
      "농구공 : 33\n",
      "필요한 상자의 수 : 7\n"
     ]
    }
   ],
   "source": [
    "ball = int(input(\"농구공 : \"))\n",
    "box = ball/5 if ball%5==0 else ball//5+1\n",
    "print(f\"필요한 상자의 수 : {box}\")"
   ]
  },
  {
   "cell_type": "markdown",
   "id": "b1fdda66",
   "metadata": {},
   "source": [
    "조건문 예제"
   ]
  },
  {
   "cell_type": "code",
   "execution_count": 28,
   "id": "244495a6",
   "metadata": {},
   "outputs": [
    {
     "name": "stdout",
     "output_type": "stream",
     "text": [
      "정수 입력 : -8\n",
      "-8 음수입니다.\n"
     ]
    }
   ],
   "source": [
    "num = int(input(\"정수 입력 : \"))\n",
    "if num>0:\n",
    "    print(f\"{num} 양수입니다\")\n",
    "elif num==0:\n",
    "    print(f\"{num} 0입니다.\")\n",
    "else:\n",
    "    print(f\"{num} 음수입니다.\")"
   ]
  },
  {
   "cell_type": "markdown",
   "id": "b43f0448",
   "metadata": {},
   "source": [
    "예제 2"
   ]
  },
  {
   "cell_type": "code",
   "execution_count": 31,
   "id": "5dd0bd11",
   "metadata": {},
   "outputs": [
    {
     "name": "stdout",
     "output_type": "stream",
     "text": [
      "DB : 8\n",
      "전자계산기구조 : 8\n",
      "OS : 12\n",
      "데이터통신 : 50\n",
      "소프트웨어공학 : 1\n",
      "불합격입니다.\n"
     ]
    }
   ],
   "source": [
    "a = int(input(\"DB : \"))\n",
    "b = int(input(\"전자계산기구조 : \"))\n",
    "c = int(input(\"OS : \"))\n",
    "d = int(input(\"데이터통신 : \"))\n",
    "e = int(input(\"소프트웨어공학 : \"))\n",
    "\n",
    "if a+b+c+d+e>= 60 and a>=8 and b>=8 and c>=8 and d>=8 and e>=8:\n",
    "    print(\"합격입니다!\")\n",
    "else:\n",
    "    print(\"불합격입니다.\")"
   ]
  },
  {
   "cell_type": "markdown",
   "id": "2096313e",
   "metadata": {},
   "source": [
    "### 7. in, not in\n",
    "- 문자열, 리스트, 튜플 등 여러개가 묶인 데이터에 특정 데이터가 존재하는지 확인하는 연산"
   ]
  },
  {
   "cell_type": "code",
   "execution_count": 32,
   "id": "d282ff83",
   "metadata": {},
   "outputs": [
    {
     "name": "stdout",
     "output_type": "stream",
     "text": [
      "True\n"
     ]
    }
   ],
   "source": [
    "str1 = \"오늘 4교시는 프리트레이닝을 보는 시간입니다.\"\n",
    "print(\"오늘\" in str1)"
   ]
  },
  {
   "cell_type": "code",
   "execution_count": 34,
   "id": "2da6a051",
   "metadata": {},
   "outputs": [
    {
     "name": "stdout",
     "output_type": "stream",
     "text": [
      "oo\n"
     ]
    }
   ],
   "source": [
    "temp_list = [1,10,'사과',\"apple\",3.14]\n",
    "if \"사과\" in temp_list :\n",
    "    print(\"oo\")"
   ]
  },
  {
   "cell_type": "markdown",
   "id": "4596475d",
   "metadata": {},
   "source": [
    "예제 1"
   ]
  },
  {
   "cell_type": "code",
   "execution_count": 40,
   "id": "8074d740",
   "metadata": {},
   "outputs": [
    {
     "name": "stdout",
     "output_type": "stream",
     "text": [
      "******************************\n",
      "검색 할 문자를 입력하세요 : i\n",
      "'i'는 3번 들어 있습니다.\n",
      "******************************\n"
     ]
    }
   ],
   "source": [
    "s = \"Hi, My name is Mihee\"\n",
    "str = input(\"*\"*30+\"\\n검색 할 문자를 입력하세요 : \")\n",
    "if str in s:\n",
    "    print(\"\\'%s\\'는 %d번 들어 있습니다.\" %(str,s.count(str)))\n",
    "else:\n",
    "    print(\"\\'%s\\'는 문자열에 들어있지 않습니다.\"%str)\n",
    "print(\"*\"*30)"
   ]
  },
  {
   "cell_type": "code",
   "execution_count": null,
   "id": "f4583ee1",
   "metadata": {},
   "outputs": [],
   "source": []
  }
 ],
 "metadata": {
  "kernelspec": {
   "display_name": "Python 3 (ipykernel)",
   "language": "python",
   "name": "python3"
  },
  "language_info": {
   "codemirror_mode": {
    "name": "ipython",
    "version": 3
   },
   "file_extension": ".py",
   "mimetype": "text/x-python",
   "name": "python",
   "nbconvert_exporter": "python",
   "pygments_lexer": "ipython3",
   "version": "3.9.12"
  }
 },
 "nbformat": 4,
 "nbformat_minor": 5
}
