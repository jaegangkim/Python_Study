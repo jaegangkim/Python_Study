{
 "cells": [
  {
   "cell_type": "markdown",
   "id": "66e568f9",
   "metadata": {},
   "source": [
    "### 1. 리스트 생성하기"
   ]
  },
  {
   "cell_type": "code",
   "execution_count": 7,
   "id": "0079b918",
   "metadata": {},
   "outputs": [],
   "source": [
    "a=[]\n",
    "b=[1,2,3]\n",
    "c=['apple',\"banana\"]\n",
    "d=[1, 3.14,'orange']\n",
    "e = [1,2,[3,4,5]]\n",
    "f = ['a','b','c',[1,2,['d','e']]]"
   ]
  },
  {
   "cell_type": "markdown",
   "id": "2aeb01f8",
   "metadata": {},
   "source": [
    "### 2. 인덱싱, 슬라이싱"
   ]
  },
  {
   "cell_type": "code",
   "execution_count": 11,
   "id": "d7bcd2d2",
   "metadata": {},
   "outputs": [
    {
     "name": "stdout",
     "output_type": "stream",
     "text": [
      "banana\n",
      "banana\n",
      "4\n",
      "d\n",
      "['b', 'c', [1, 2, ['d', 'e']]]\n"
     ]
    }
   ],
   "source": [
    "# 인덱싱\n",
    "print(c[1])\n",
    "print(c[-1])\n",
    "\n",
    "print(e[2][1])\n",
    "print(f[-1][-1][0])\n",
    "\n",
    "print(f[1:])"
   ]
  },
  {
   "cell_type": "markdown",
   "id": "69bfde54",
   "metadata": {},
   "source": [
    "### 3. 리스트 길이 확인\n",
    "- len() : 리스트, 튜블, 문자열 등 묶여있는 데이터의 길이 확인"
   ]
  },
  {
   "cell_type": "code",
   "execution_count": 15,
   "id": "a59b0aca",
   "metadata": {},
   "outputs": [
    {
     "name": "stdout",
     "output_type": "stream",
     "text": [
      "4\n",
      "6\n"
     ]
    }
   ],
   "source": [
    "print(len(f))\n",
    "print(len((1,2,3,4,5,6)))"
   ]
  },
  {
   "cell_type": "markdown",
   "id": "bc4a11d8",
   "metadata": {},
   "source": [
    "#### 4. 리스트 연산\n",
    "- 더하기, 곱하기"
   ]
  },
  {
   "cell_type": "code",
   "execution_count": 25,
   "id": "d30e84d7",
   "metadata": {},
   "outputs": [
    {
     "data": {
      "text/plain": [
       "[1, 2, 3, 4, 5, 6, 7]"
      ]
     },
     "execution_count": 25,
     "metadata": {},
     "output_type": "execute_result"
    }
   ],
   "source": [
    "#더하기\n",
    "list1 = [1,2,3]\n",
    "list2 = [4,5,6,7]\n",
    "\n",
    "list1+list2"
   ]
  },
  {
   "cell_type": "code",
   "execution_count": 26,
   "id": "2ac4e9b7",
   "metadata": {},
   "outputs": [
    {
     "data": {
      "text/plain": [
       "[1, 2, 3, 1, 2, 3, 1, 2, 3]"
      ]
     },
     "execution_count": 26,
     "metadata": {},
     "output_type": "execute_result"
    }
   ],
   "source": [
    "#곱하기\n",
    "list1 *3"
   ]
  },
  {
   "cell_type": "markdown",
   "id": "de335c69",
   "metadata": {},
   "source": [
    "### 5. 리스트 데이터 수정, 삭제, 추가 "
   ]
  },
  {
   "cell_type": "code",
   "execution_count": 37,
   "id": "a59431b8",
   "metadata": {},
   "outputs": [
    {
     "name": "stdout",
     "output_type": "stream",
     "text": [
      "['a', 'b', 5, 2, 3]\n",
      "['a', 6, 2, 3]\n"
     ]
    }
   ],
   "source": [
    "list3 = ['a','b',1,2,3]\n",
    "\n",
    "#수정\n",
    "list3[2] = 5\n",
    "\n",
    "print(list3)\n",
    "\n",
    "list3[1:3] = [6]\n",
    "print(list3)"
   ]
  },
  {
   "cell_type": "code",
   "execution_count": 38,
   "id": "0a6d36ca",
   "metadata": {},
   "outputs": [
    {
     "name": "stdout",
     "output_type": "stream",
     "text": [
      "[6, 2, 3]\n"
     ]
    }
   ],
   "source": [
    "#삭제\n",
    "del list3[0]\n",
    "print(list3)"
   ]
  },
  {
   "cell_type": "code",
   "execution_count": 39,
   "id": "e4b8d049",
   "metadata": {},
   "outputs": [
    {
     "name": "stdout",
     "output_type": "stream",
     "text": [
      "[3]\n"
     ]
    }
   ],
   "source": [
    "list3[:2] = []\n",
    "print(list3)"
   ]
  },
  {
   "cell_type": "code",
   "execution_count": 40,
   "id": "ae37c5d6",
   "metadata": {},
   "outputs": [
    {
     "name": "stdout",
     "output_type": "stream",
     "text": [
      "[3, 'orange']\n"
     ]
    }
   ],
   "source": [
    "#추가\n",
    "list3.append('orange')\n",
    "print(list3)"
   ]
  },
  {
   "cell_type": "code",
   "execution_count": 41,
   "id": "dffa02f0",
   "metadata": {},
   "outputs": [
    {
     "name": "stdout",
     "output_type": "stream",
     "text": [
      "[3, 'banana', 'orange']\n"
     ]
    }
   ],
   "source": [
    "list3.insert(1,'banana') #원하는 위치에 추가\n",
    "print(list3)"
   ]
  },
  {
   "cell_type": "markdown",
   "id": "7e9337ec",
   "metadata": {},
   "source": [
    "### 6. 그 외 추가 기능 "
   ]
  },
  {
   "cell_type": "code",
   "execution_count": 33,
   "id": "a9254394",
   "metadata": {},
   "outputs": [],
   "source": [
    "# 정렬\n",
    "list4 = [10,9,56,3,7,100]\n",
    "list4.sort()"
   ]
  },
  {
   "cell_type": "code",
   "execution_count": 34,
   "id": "ac661ab2",
   "metadata": {},
   "outputs": [
    {
     "name": "stdout",
     "output_type": "stream",
     "text": [
      "[3, 7, 9, 10, 56, 100]\n"
     ]
    }
   ],
   "source": [
    "print(list4)"
   ]
  },
  {
   "cell_type": "code",
   "execution_count": 42,
   "id": "feaf9d9d",
   "metadata": {},
   "outputs": [
    {
     "name": "stdout",
     "output_type": "stream",
     "text": [
      "[100, 56, 10, 9, 7, 3]\n"
     ]
    }
   ],
   "source": [
    "list4.sort(reverse=True)\n",
    "print(list4)"
   ]
  },
  {
   "cell_type": "code",
   "execution_count": 43,
   "id": "8b6d3546",
   "metadata": {},
   "outputs": [
    {
     "name": "stdout",
     "output_type": "stream",
     "text": [
      "[[1, 2], 'c', 1, 'a']\n"
     ]
    }
   ],
   "source": [
    "# 뒤집기\n",
    "list5 = ['a',1,'c',[1,2]]\n",
    "list5.reverse()\n",
    "print(list5)"
   ]
  },
  {
   "cell_type": "code",
   "execution_count": 44,
   "id": "831bfb79",
   "metadata": {},
   "outputs": [
    {
     "name": "stdout",
     "output_type": "stream",
     "text": [
      "1\n"
     ]
    }
   ],
   "source": [
    "# 원하는 데이터 위치 찾기\n",
    "print(list5.index('c'))"
   ]
  },
  {
   "cell_type": "code",
   "execution_count": 45,
   "id": "83344297",
   "metadata": {},
   "outputs": [
    {
     "name": "stdout",
     "output_type": "stream",
     "text": [
      "a\n"
     ]
    }
   ],
   "source": [
    "# 원하는 데이터 추출\n",
    "print(list5.pop())"
   ]
  },
  {
   "cell_type": "code",
   "execution_count": 46,
   "id": "73df863e",
   "metadata": {},
   "outputs": [
    {
     "name": "stdout",
     "output_type": "stream",
     "text": [
      "[[1, 2], 'c']\n"
     ]
    }
   ],
   "source": [
    "list5.pop()\n",
    "print(list5)"
   ]
  },
  {
   "cell_type": "code",
   "execution_count": 47,
   "id": "f6481290",
   "metadata": {},
   "outputs": [
    {
     "name": "stdout",
     "output_type": "stream",
     "text": [
      "[1, 2]\n"
     ]
    }
   ],
   "source": [
    "print(list5.pop(0))"
   ]
  },
  {
   "cell_type": "code",
   "execution_count": 48,
   "id": "60cbf53e",
   "metadata": {},
   "outputs": [
    {
     "name": "stdout",
     "output_type": "stream",
     "text": [
      "[]\n"
     ]
    }
   ],
   "source": [
    "list5.remove('c')\n",
    "print(list5)"
   ]
  },
  {
   "cell_type": "markdown",
   "id": "19f01557",
   "metadata": {},
   "source": [
    "###  7. 튜블\n",
    "- 리스트와 다르게 추가, 수정 삭제 불가능"
   ]
  },
  {
   "cell_type": "code",
   "execution_count": 50,
   "id": "a89f0d1a",
   "metadata": {},
   "outputs": [],
   "source": [
    "a = (1,4,5,6,'a',(7,8))\n",
    "b = ('apple', 'banana')"
   ]
  },
  {
   "cell_type": "code",
   "execution_count": 51,
   "id": "f0cd6965",
   "metadata": {},
   "outputs": [
    {
     "data": {
      "text/plain": [
       "(1, 4, 5, 6, 'a', (7, 8), 'apple', 'banana')"
      ]
     },
     "execution_count": 51,
     "metadata": {},
     "output_type": "execute_result"
    }
   ],
   "source": [
    "# 튜플 연산\n",
    "a+b"
   ]
  },
  {
   "cell_type": "code",
   "execution_count": 55,
   "id": "7417439b",
   "metadata": {},
   "outputs": [
    {
     "data": {
      "text/plain": [
       "('apple', 'banana', 'apple', 'banana', 'apple', 'banana')"
      ]
     },
     "execution_count": 55,
     "metadata": {},
     "output_type": "execute_result"
    }
   ],
   "source": [
    "3*b"
   ]
  },
  {
   "cell_type": "code",
   "execution_count": 56,
   "id": "3e2f83a9",
   "metadata": {},
   "outputs": [
    {
     "name": "stdout",
     "output_type": "stream",
     "text": [
      "('apple', 'banana')\n"
     ]
    }
   ],
   "source": [
    "# 인덱싱 슬라이싱\n",
    "print(b[-2:])"
   ]
  },
  {
   "cell_type": "code",
   "execution_count": 57,
   "id": "66b0cae9",
   "metadata": {},
   "outputs": [
    {
     "ename": "TypeError",
     "evalue": "'tuple' object doesn't support item deletion",
     "output_type": "error",
     "traceback": [
      "\u001b[1;31m---------------------------------------------------------------------------\u001b[0m",
      "\u001b[1;31mTypeError\u001b[0m                                 Traceback (most recent call last)",
      "Input \u001b[1;32mIn [57]\u001b[0m, in \u001b[0;36m<cell line: 2>\u001b[1;34m()\u001b[0m\n\u001b[0;32m      1\u001b[0m \u001b[38;5;66;03m# 데이터 삭제/ 수정\u001b[39;00m\n\u001b[1;32m----> 2\u001b[0m \u001b[38;5;28;01mdel\u001b[39;00m a[\u001b[38;5;241m1\u001b[39m]\n",
      "\u001b[1;31mTypeError\u001b[0m: 'tuple' object doesn't support item deletion"
     ]
    }
   ],
   "source": [
    "# 데이터 삭제/ 수정\n",
    "del a[1]"
   ]
  },
  {
   "cell_type": "code",
   "execution_count": 58,
   "id": "8c4ff8f5",
   "metadata": {},
   "outputs": [
    {
     "ename": "TypeError",
     "evalue": "'tuple' object does not support item assignment",
     "output_type": "error",
     "traceback": [
      "\u001b[1;31m---------------------------------------------------------------------------\u001b[0m",
      "\u001b[1;31mTypeError\u001b[0m                                 Traceback (most recent call last)",
      "Input \u001b[1;32mIn [58]\u001b[0m, in \u001b[0;36m<cell line: 1>\u001b[1;34m()\u001b[0m\n\u001b[1;32m----> 1\u001b[0m b[\u001b[38;5;241m3\u001b[39m] \u001b[38;5;241m=\u001b[39m \u001b[38;5;124m'\u001b[39m\u001b[38;5;124mbb\u001b[39m\u001b[38;5;124m'\u001b[39m\n",
      "\u001b[1;31mTypeError\u001b[0m: 'tuple' object does not support item assignment"
     ]
    }
   ],
   "source": [
    "b[3] = 'bb'"
   ]
  },
  {
   "cell_type": "code",
   "execution_count": null,
   "id": "66443540",
   "metadata": {},
   "outputs": [],
   "source": []
  }
 ],
 "metadata": {
  "kernelspec": {
   "display_name": "Python 3 (ipykernel)",
   "language": "python",
   "name": "python3"
  },
  "language_info": {
   "codemirror_mode": {
    "name": "ipython",
    "version": 3
   },
   "file_extension": ".py",
   "mimetype": "text/x-python",
   "name": "python",
   "nbconvert_exporter": "python",
   "pygments_lexer": "ipython3",
   "version": "3.9.12"
  }
 },
 "nbformat": 4,
 "nbformat_minor": 5
}
