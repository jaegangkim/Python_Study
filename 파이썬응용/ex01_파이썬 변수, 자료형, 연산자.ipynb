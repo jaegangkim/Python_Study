{
 "cells": [
  {
   "cell_type": "markdown",
   "id": "49994f0c",
   "metadata": {},
   "source": [
    "### 1. 파이썬 변수와 출력"
   ]
  },
  {
   "cell_type": "code",
   "execution_count": 1,
   "id": "d4a0bdbc",
   "metadata": {},
   "outputs": [
    {
     "name": "stdout",
     "output_type": "stream",
     "text": [
      "10\n"
     ]
    }
   ],
   "source": [
    "a = 10\n",
    "print(a)"
   ]
  },
  {
   "cell_type": "code",
   "execution_count": 2,
   "id": "5fe6fb8f",
   "metadata": {},
   "outputs": [],
   "source": [
    "b = \"hello world!!\""
   ]
  },
  {
   "cell_type": "code",
   "execution_count": 3,
   "id": "7930e9dc",
   "metadata": {},
   "outputs": [
    {
     "name": "stdout",
     "output_type": "stream",
     "text": [
      "hello world!!\n"
     ]
    }
   ],
   "source": [
    "print(b)"
   ]
  },
  {
   "cell_type": "code",
   "execution_count": 4,
   "id": "ea66bbdf",
   "metadata": {},
   "outputs": [
    {
     "name": "stdout",
     "output_type": "stream",
     "text": [
      "apple\n"
     ]
    }
   ],
   "source": [
    "a = \"apple\"\n",
    "print(a)"
   ]
  },
  {
   "cell_type": "code",
   "execution_count": 6,
   "id": "75ab5338",
   "metadata": {},
   "outputs": [
    {
     "data": {
      "text/plain": [
       "3"
      ]
     },
     "execution_count": 6,
     "metadata": {},
     "output_type": "execute_result"
    }
   ],
   "source": [
    "1+2"
   ]
  },
  {
   "cell_type": "code",
   "execution_count": 7,
   "id": "ebcadf95",
   "metadata": {},
   "outputs": [
    {
     "data": {
      "text/plain": [
       "1.25"
      ]
     },
     "execution_count": 7,
     "metadata": {},
     "output_type": "execute_result"
    }
   ],
   "source": [
    "10/8"
   ]
  },
  {
   "cell_type": "code",
   "execution_count": 10,
   "id": "bc535232",
   "metadata": {},
   "outputs": [
    {
     "name": "stdout",
     "output_type": "stream",
     "text": [
      "{3}\n"
     ]
    }
   ],
   "source": [
    "# 숫자형\n",
    "a=10\n",
    "b=3.14\n",
    "#문자형\n",
    "c = \"안녕하세요\"\n",
    "d = '안녕'\n",
    "#리스트\n",
    "e = [1,2,3,4,5]\n",
    "#튜플\n",
    "f=(\"apple\",\"banana\",\"orange\")\n",
    "#딕셔너리\n",
    "g = {\"이름\":\"황해도\",\"키\":180}\n",
    "#집합\n",
    "h = set([1,2,3])\n",
    "h2 = set([1,2])\n",
    "print(h-h2)\n",
    "#논리\n",
    "i = True"
   ]
  },
  {
   "cell_type": "markdown",
   "id": "d616e65d",
   "metadata": {},
   "source": [
    "### 문자열 타입"
   ]
  },
  {
   "cell_type": "code",
   "execution_count": 12,
   "id": "faf8c1da",
   "metadata": {},
   "outputs": [],
   "source": [
    "s1 = \"python\""
   ]
  },
  {
   "cell_type": "markdown",
   "id": "106ddd9c",
   "metadata": {},
   "source": [
    "#### 인덱싱과 슬라이싱 \n",
    "- 인덱싱 : 특정 인덱스 위치의 데이터를 가져오는 것\n",
    "- 슬라이싱 : 연속적인 여러 인덱스 위치의 데이터를 가져오는 것"
   ]
  },
  {
   "cell_type": "code",
   "execution_count": 15,
   "id": "98cd17ca",
   "metadata": {},
   "outputs": [
    {
     "name": "stdout",
     "output_type": "stream",
     "text": [
      "y\n",
      "n\n",
      "n\n"
     ]
    }
   ],
   "source": [
    "print(s1[1])\n",
    "print(s1[5])\n",
    "print(s1[-1])"
   ]
  },
  {
   "cell_type": "code",
   "execution_count": 22,
   "id": "668b0cc9",
   "metadata": {},
   "outputs": [
    {
     "name": "stdout",
     "output_type": "stream",
     "text": [
      "python\n"
     ]
    }
   ],
   "source": [
    "print(s1[:])"
   ]
  },
  {
   "cell_type": "markdown",
   "id": "eb8d01e5",
   "metadata": {},
   "source": [
    "### 4. 이스케이프 코드\n",
    "- 프로그래밍 할 때 사용 할 수 있도록 미리 정의해둔 문자조합"
   ]
  },
  {
   "cell_type": "code",
   "execution_count": 26,
   "id": "8446d9ae",
   "metadata": {},
   "outputs": [
    {
     "name": "stdout",
     "output_type": "stream",
     "text": [
      "안녕하세요\n",
      "저는 김재강입니다\n"
     ]
    }
   ],
   "source": [
    "print(\"안녕하세요\\n저는 김재강입니다\")"
   ]
  },
  {
   "cell_type": "code",
   "execution_count": 27,
   "id": "c46bed50",
   "metadata": {},
   "outputs": [
    {
     "name": "stdout",
     "output_type": "stream",
     "text": [
      "사과\t배\t바나나\n"
     ]
    }
   ],
   "source": [
    "print(\"사과\\t배\\t바나나\")"
   ]
  },
  {
   "cell_type": "code",
   "execution_count": 29,
   "id": "b354f06c",
   "metadata": {},
   "outputs": [
    {
     "name": "stdout",
     "output_type": "stream",
     "text": [
      "선생님이 나에게 \"안녕하세요\"라고 말했다.\n"
     ]
    }
   ],
   "source": [
    "print(\"선생님이 나에게 \\\"안녕하세요\\\"라고 말했다.\")"
   ]
  },
  {
   "cell_type": "code",
   "execution_count": 30,
   "id": "bc861954",
   "metadata": {},
   "outputs": [
    {
     "name": "stdout",
     "output_type": "stream",
     "text": [
      "안녕하세요\n",
      "저는 김재강입니다.\n",
      "\n"
     ]
    }
   ],
   "source": [
    "print('''안녕하세요\n",
    "저는 김재강입니다.\n",
    "''')"
   ]
  },
  {
   "cell_type": "code",
   "execution_count": null,
   "id": "9ed4de40",
   "metadata": {},
   "outputs": [],
   "source": []
  }
 ],
 "metadata": {
  "kernelspec": {
   "display_name": "Python 3 (ipykernel)",
   "language": "python",
   "name": "python3"
  },
  "language_info": {
   "codemirror_mode": {
    "name": "ipython",
    "version": 3
   },
   "file_extension": ".py",
   "mimetype": "text/x-python",
   "name": "python",
   "nbconvert_exporter": "python",
   "pygments_lexer": "ipython3",
   "version": "3.9.12"
  }
 },
 "nbformat": 4,
 "nbformat_minor": 5
}
