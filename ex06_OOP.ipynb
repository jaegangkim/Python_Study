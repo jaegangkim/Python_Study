{
 "cells": [
  {
   "cell_type": "markdown",
   "id": "be0e92d0",
   "metadata": {},
   "source": [
    "### 클래스(Class)\n",
    "- 객체의 속성과 행동을 정의하는 설계도"
   ]
  },
  {
   "cell_type": "code",
   "execution_count": 1,
   "id": "64b61cce",
   "metadata": {},
   "outputs": [],
   "source": [
    "class Person :\n",
    "    name = \"\"\n",
    "    age = 0\n",
    "    height = 0\n",
    "    \n",
    "    def eat():\n",
    "        print(\"먹다\")\n",
    "        \n",
    "    def walk():\n",
    "        print(\"걷다\")"
   ]
  },
  {
   "cell_type": "markdown",
   "id": "1c388f17",
   "metadata": {},
   "source": [
    "### 객체(Object)\n",
    "- 클래스로부터 실체화 된 대상"
   ]
  },
  {
   "cell_type": "code",
   "execution_count": 4,
   "id": "640648b0",
   "metadata": {},
   "outputs": [],
   "source": [
    "a = Person()\n",
    "b = Person()\n",
    "c = Person()"
   ]
  },
  {
   "cell_type": "code",
   "execution_count": null,
   "id": "50a9a752",
   "metadata": {},
   "outputs": [],
   "source": [
    "print(\"=\"*30)\n",
    "print(\"자판기 프로그램\")\n",
    "print(\"=\"*30)\n",
    "money = int(input(\"돈을 넣어주세요 >> \"))\n",
    "choice = int(input(\"1.콜라(500) 2.생수(700) 3.비타민워터(1500) >> \"))\n",
    "if choice == 1 :\n",
    "    money -= 500\n",
    "elif choice == 2 :\n",
    "    money -= 700\n",
    "elif choice == 3 :\n",
    "    money -= 1500\n",
    "if money < 0 :\n",
    "    print(\"돈이 부족합니다.\")\n",
    "else :\n",
    "    print(f\"잔돈 : {money}\")\n",
    "    print(f\"1000원 : {money//1000} 개\")\n",
    "    print(f\"500원 : {money%1000//500} 개\")\n",
    "    print(f\"100원 : {money%1000%500//100} 개\")"
   ]
  },
  {
   "cell_type": "markdown",
   "id": "016cc5d8",
   "metadata": {},
   "source": [
    "###### 자판기 프로그램 "
   ]
  },
  {
   "cell_type": "code",
   "execution_count": 6,
   "id": "a44a7e2b",
   "metadata": {},
   "outputs": [
    {
     "ename": "IndentationError",
     "evalue": "expected an indented block (2927462390.py, line 4)",
     "output_type": "error",
     "traceback": [
      "\u001b[1;36m  Input \u001b[1;32mIn [6]\u001b[1;36m\u001b[0m\n\u001b[1;33m    def choiceMenu():\u001b[0m\n\u001b[1;37m    ^\u001b[0m\n\u001b[1;31mIndentationError\u001b[0m\u001b[1;31m:\u001b[0m expected an indented block\n"
     ]
    }
   ],
   "source": [
    "class VendingMachine :\n",
    "    def inputMoney():\n",
    "        \n",
    "    def choiceMenu():\n",
    "        \n",
    "    def changeMoney():\n",
    "       \n",
    "    "
   ]
  },
  {
   "cell_type": "code",
   "execution_count": null,
   "id": "95d1090c",
   "metadata": {},
   "outputs": [],
   "source": [
    "v1 = VendingMachine()\n",
    "v1.inputMoney()\n",
    "v1.choiceMenu()\n",
    "v1.changeMoney"
   ]
  }
 ],
 "metadata": {
  "kernelspec": {
   "display_name": "Python 3 (ipykernel)",
   "language": "python",
   "name": "python3"
  },
  "language_info": {
   "codemirror_mode": {
    "name": "ipython",
    "version": 3
   },
   "file_extension": ".py",
   "mimetype": "text/x-python",
   "name": "python",
   "nbconvert_exporter": "python",
   "pygments_lexer": "ipython3",
   "version": "3.9.12"
  }
 },
 "nbformat": 4,
 "nbformat_minor": 5
}
