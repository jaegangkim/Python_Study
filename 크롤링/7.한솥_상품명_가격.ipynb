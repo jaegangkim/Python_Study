{
 "cells": [
  {
   "cell_type": "markdown",
   "id": "d064276e",
   "metadata": {},
   "source": [
    "#### 정리"
   ]
  },
  {
   "cell_type": "code",
   "execution_count": 30,
   "id": "b3a73363",
   "metadata": {},
   "outputs": [],
   "source": [
    "from selenium import webdriver as wb\n",
    "from selenium.webdriver.common.keys import Keys\n",
    "from selenium.webdriver.common.by import By\n",
    "import time\n",
    "import pandas as pd\n",
    "\n",
    "driver = wb.Chrome()\n",
    "driver.get(\"https://www.hsd.co.kr/menu/menu_list\")\n",
    "while True:\n",
    "    try:\n",
    "        btn = driver.find_element(By.CSS_SELECTOR, 'a.c_05')\n",
    "        btn.click()\n",
    "        time.sleep(1)\n",
    "    except:\n",
    "        break\n",
    "\n",
    "title_list=[i.text for i in driver.find_elements(By.CSS_SELECTOR, \"h4.h.fz_03\")]\n",
    "price_list=[i.text for i in driver.find_elements(By.CSS_SELECTOR, \"div.item-price strong\")]\n",
    "\n",
    "dic = {\"제품명\":title_list,\"가격\":price_list}\n",
    "df = pd.DataFrame(dic)\n",
    "df.index=range(1,len(title_list)+1)\n",
    "df.to_csv(\"menu.csv\",encoding=\"euc-kr\")\n",
    "driver.close()"
   ]
  },
  {
   "cell_type": "markdown",
   "id": "8ffdb1c9",
   "metadata": {},
   "source": [
    "## ActionChains \n",
    "- 동작을 연결하는 기능\n",
    "    - 액션을 줄 모든 요소 수집\n",
    "    - 차례대로 연결"
   ]
  },
  {
   "cell_type": "code",
   "execution_count": 39,
   "id": "27fda9be",
   "metadata": {},
   "outputs": [],
   "source": [
    "from selenium.webdriver import ActionChains"
   ]
  },
  {
   "cell_type": "code",
   "execution_count": 32,
   "id": "29665f1a",
   "metadata": {},
   "outputs": [],
   "source": [
    "driver = wb.Chrome()\n",
    "driver.get(\"https://www.hsd.co.kr/\")"
   ]
  },
  {
   "cell_type": "code",
   "execution_count": 36,
   "id": "8630e666",
   "metadata": {},
   "outputs": [],
   "source": [
    "# 메뉴"
   ]
  },
  {
   "cell_type": "code",
   "execution_count": 37,
   "id": "93fb6e2a",
   "metadata": {},
   "outputs": [],
   "source": [
    "# 클릭을 하려면 커서를 올린 상태에서만 가능\n",
    "menu = driver.find_element(By.CSS_SELECTOR,'#gnb > div.gnb_menu > ul > li:nth-child(3) > p > a')\n",
    "total_menu = driver.find_element(By.CSS_SELECTOR,'#gnb > div.gnb_menu > ul > li:nth-child(3) > div > ul > li:nth-child(1) > a')"
   ]
  },
  {
   "cell_type": "code",
   "execution_count": 40,
   "id": "a5df3484",
   "metadata": {},
   "outputs": [],
   "source": [
    "# 커서올리기 : move_to_element\n",
    "# 실행 : perform()\n",
    "ActionChains(driver).move_to_element(menu).click(total_menu).perform()"
   ]
  }
 ],
 "metadata": {
  "kernelspec": {
   "display_name": "Python 3 (ipykernel)",
   "language": "python",
   "name": "python3"
  },
  "language_info": {
   "codemirror_mode": {
    "name": "ipython",
    "version": 3
   },
   "file_extension": ".py",
   "mimetype": "text/x-python",
   "name": "python",
   "nbconvert_exporter": "python",
   "pygments_lexer": "ipython3",
   "version": "3.9.12"
  }
 },
 "nbformat": 4,
 "nbformat_minor": 5
}
