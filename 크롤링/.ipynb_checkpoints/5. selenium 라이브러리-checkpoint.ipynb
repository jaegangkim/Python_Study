{
 "cells": [
  {
   "cell_type": "markdown",
   "id": "72fbb95a",
   "metadata": {},
   "source": [
    "## Selenium 라이브러리\n",
    "- 웹 브라우저를 자동으로 제어하기 위한 라이브러리\n",
    "- 브라우저를 키는 것부터 제어 > requests 필요 x\n",
    "- 처음 사용 할 땐 설치 필요\n",
    "- webdriver : 브라우저 역할 ( requests랑 비슷)\n",
    "- Keys : 키보드 역할\n",
    "- By : 선택자를 선택하는 역할\n",
    "\n",
    "- chromedriver가 같은 위치에 있어야 함"
   ]
  },
  {
   "cell_type": "code",
   "execution_count": 1,
   "id": "1a9e00a2",
   "metadata": {
    "collapsed": true
   },
   "outputs": [
    {
     "name": "stdout",
     "output_type": "stream",
     "text": [
      "Collecting selenium\n",
      "  Downloading selenium-4.3.0-py3-none-any.whl (981 kB)\n",
      "Requirement already satisfied: urllib3[secure,socks]~=1.26 in c:\\users\\aischool\\anaconda3\\lib\\site-packages (from selenium) (1.26.9)\n",
      "Collecting trio~=0.17\n",
      "  Downloading trio-0.21.0-py3-none-any.whl (358 kB)\n",
      "Collecting trio-websocket~=0.9\n",
      "  Downloading trio_websocket-0.9.2-py3-none-any.whl (16 kB)\n",
      "Requirement already satisfied: sniffio in c:\\users\\aischool\\anaconda3\\lib\\site-packages (from trio~=0.17->selenium) (1.2.0)\n",
      "Collecting outcome\n",
      "  Downloading outcome-1.2.0-py2.py3-none-any.whl (9.7 kB)\n",
      "Collecting async-generator>=1.9\n",
      "  Downloading async_generator-1.10-py3-none-any.whl (18 kB)\n",
      "Requirement already satisfied: idna in c:\\users\\aischool\\anaconda3\\lib\\site-packages (from trio~=0.17->selenium) (3.3)\n",
      "Requirement already satisfied: attrs>=19.2.0 in c:\\users\\aischool\\anaconda3\\lib\\site-packages (from trio~=0.17->selenium) (21.4.0)\n",
      "Requirement already satisfied: sortedcontainers in c:\\users\\aischool\\anaconda3\\lib\\site-packages (from trio~=0.17->selenium) (2.4.0)\n",
      "Requirement already satisfied: cffi>=1.14 in c:\\users\\aischool\\anaconda3\\lib\\site-packages (from trio~=0.17->selenium) (1.15.0)\n",
      "Requirement already satisfied: pycparser in c:\\users\\aischool\\anaconda3\\lib\\site-packages (from cffi>=1.14->trio~=0.17->selenium) (2.21)\n",
      "Collecting wsproto>=0.14\n",
      "  Downloading wsproto-1.1.0-py3-none-any.whl (24 kB)\n",
      "Requirement already satisfied: certifi in c:\\users\\aischool\\anaconda3\\lib\\site-packages (from urllib3[secure,socks]~=1.26->selenium) (2021.10.8)\n",
      "Requirement already satisfied: cryptography>=1.3.4 in c:\\users\\aischool\\anaconda3\\lib\\site-packages (from urllib3[secure,socks]~=1.26->selenium) (3.4.8)\n",
      "Requirement already satisfied: pyOpenSSL>=0.14 in c:\\users\\aischool\\anaconda3\\lib\\site-packages (from urllib3[secure,socks]~=1.26->selenium) (21.0.0)\n",
      "Requirement already satisfied: PySocks!=1.5.7,<2.0,>=1.5.6 in c:\\users\\aischool\\anaconda3\\lib\\site-packages (from urllib3[secure,socks]~=1.26->selenium) (1.7.1)\n",
      "Requirement already satisfied: six>=1.5.2 in c:\\users\\aischool\\anaconda3\\lib\\site-packages (from pyOpenSSL>=0.14->urllib3[secure,socks]~=1.26->selenium) (1.16.0)\n",
      "Collecting h11<1,>=0.9.0\n",
      "  Downloading h11-0.13.0-py3-none-any.whl (58 kB)\n",
      "Installing collected packages: outcome, h11, async-generator, wsproto, trio, trio-websocket, selenium\n",
      "Successfully installed async-generator-1.10 h11-0.13.0 outcome-1.2.0 selenium-4.3.0 trio-0.21.0 trio-websocket-0.9.2 wsproto-1.1.0\n"
     ]
    }
   ],
   "source": [
    "# from ~ import ~ : 주피터 노트북이 가지고 있는 함수 호출\n",
    "# !pip install    : 주피터 노트북이 가지고 있지 않아서 설치하는 코드\n",
    "!pip install selenium     # 한번만 설치하고 다음부터 import하면 됨"
   ]
  },
  {
   "cell_type": "code",
   "execution_count": 9,
   "id": "77cdd6e2",
   "metadata": {},
   "outputs": [],
   "source": [
    "from selenium import webdriver as wb\n",
    "from selenium.webdriver.common.keys import Keys\n",
    "from selenium.webdriver.common.by import By"
   ]
  },
  {
   "cell_type": "code",
   "execution_count": 18,
   "id": "31058a09",
   "metadata": {},
   "outputs": [],
   "source": [
    "# 1. 크롬창 열기\n",
    "driver = wb.Chrome()"
   ]
  },
  {
   "cell_type": "code",
   "execution_count": 19,
   "id": "450c4391",
   "metadata": {},
   "outputs": [],
   "source": [
    "# 2. 네이버 들어가기\n",
    "driver.get(\"https://www.naver.com\")"
   ]
  },
  {
   "cell_type": "code",
   "execution_count": 20,
   "id": "b3f423f3",
   "metadata": {},
   "outputs": [],
   "source": [
    "# 3. 검색창 찾기 : element: 특정 ID인 한개를 찾음\n",
    "search = driver.find_element(By.ID, \"query\")"
   ]
  },
  {
   "cell_type": "code",
   "execution_count": 21,
   "id": "65f9e103",
   "metadata": {
    "scrolled": true
   },
   "outputs": [],
   "source": [
    "# 4. '광주날씨' 입력'\n",
    "search.send_keys(\"광주날씨\")"
   ]
  },
  {
   "cell_type": "code",
   "execution_count": 23,
   "id": "23071cc9",
   "metadata": {},
   "outputs": [],
   "source": [
    "# 5. 검색 하기\n",
    "# 5-1. 엔터 누르기\n",
    "search.send_keys(Keys.ENTER)"
   ]
  },
  {
   "cell_type": "code",
   "execution_count": 24,
   "id": "11a8788d",
   "metadata": {},
   "outputs": [],
   "source": [
    "# 5-2. 검색 버튼 누르기\n",
    "search_btn = driver.find_element(By.ID, \"search_btn\")\n",
    "search_btn.click()"
   ]
  },
  {
   "cell_type": "code",
   "execution_count": 25,
   "id": "9f536e54",
   "metadata": {},
   "outputs": [],
   "source": [
    "# 6. 뒤로가기\n",
    "driver.back()"
   ]
  },
  {
   "cell_type": "code",
   "execution_count": 26,
   "id": "c3feac8c",
   "metadata": {},
   "outputs": [],
   "source": [
    "# 7. 창 닫기\n",
    "driver.close()"
   ]
  },
  {
   "cell_type": "code",
   "execution_count": 27,
   "id": "555cbc94",
   "metadata": {},
   "outputs": [],
   "source": [
    "# 한 번에 실행, 사이사이에 print문 넣으면 오류났을 때 파악 쉬움\n",
    "driver = wb.Chrome()\n",
    "driver.get(\"https://www.naver.com\")\n",
    "search = driver.find_element(By.ID, \"query\")\n",
    "search.send_keys(\"광주날씨\")\n",
    "search.send_keys(Keys.ENTER)\n",
    "driver.back()\n",
    "driver.close()"
   ]
  },
  {
   "cell_type": "code",
   "execution_count": null,
   "id": "5b79370e",
   "metadata": {},
   "outputs": [],
   "source": []
  }
 ],
 "metadata": {
  "kernelspec": {
   "display_name": "Python 3 (ipykernel)",
   "language": "python",
   "name": "python3"
  },
  "language_info": {
   "codemirror_mode": {
    "name": "ipython",
    "version": 3
   },
   "file_extension": ".py",
   "mimetype": "text/x-python",
   "name": "python",
   "nbconvert_exporter": "python",
   "pygments_lexer": "ipython3",
   "version": "3.9.12"
  }
 },
 "nbformat": 4,
 "nbformat_minor": 5
}
