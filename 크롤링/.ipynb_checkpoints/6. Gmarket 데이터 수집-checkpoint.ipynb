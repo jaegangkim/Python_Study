{
 "cells": [
  {
   "cell_type": "code",
   "execution_count": 1,
   "id": "323f794f",
   "metadata": {},
   "outputs": [],
   "source": [
    "from selenium import webdriver as wb\n",
    "from selenium.webdriver.common.keys import Keys\n",
    "from selenium.webdriver.common.by import By"
   ]
  },
  {
   "cell_type": "markdown",
   "id": "efb7d1c6",
   "metadata": {},
   "source": [
    "Gmarket에서 여러 상품들의 가격정보, 상품정보 가져오기"
   ]
  },
  {
   "cell_type": "code",
   "execution_count": 22,
   "id": "f26a8460",
   "metadata": {},
   "outputs": [],
   "source": [
    "driver = wb.Chrome()\n",
    "driver.get(\"http://corners.gmarket.co.kr/Bestsellers\")\n",
    "\n",
    "# 여러 이미지를 찾으므로 elements  , 리스트로 만들어 줌\n",
    "imgs = driver.find_elements(By.CLASS_NAME, \"lazy\")"
   ]
  },
  {
   "cell_type": "code",
   "execution_count": null,
   "id": "77b3fe2a",
   "metadata": {},
   "outputs": [],
   "source": [
    "from tqdm import tqdm_notebook"
   ]
  },
  {
   "cell_type": "code",
   "execution_count": 31,
   "id": "36b76065",
   "metadata": {},
   "outputs": [],
   "source": [
    "driver = wb.Chrome()\n",
    "driver.get(\"http://corners.gmarket.co.kr/Bestsellers\")\n",
    "title_list = []\n",
    "price_list = []\n",
    "for i in range(10):\n",
    "    # 값이 계속 갱신 됨! 그래서 반복문 안에 있어야 함\n",
    "    imgs = driver.find_elements(By.CLASS_NAME, \"lazy\")\n",
    "    imgs[i].click()\n",
    "    title_list.append(driver.find_element(By.CLASS_NAME,\"itemtit\").text)\n",
    "    price_list.append(driver.find_element(By.CLASS_NAME,\"price_real\").text)\n",
    "    driver.back()"
   ]
  },
  {
   "cell_type": "code",
   "execution_count": 29,
   "id": "05908f5e",
   "metadata": {},
   "outputs": [
    {
     "data": {
      "text/plain": [
       "['옥주부 제주돼지 돈까스 10팩(등심8+치즈2+소스10)',\n",
       " '하남쭈꾸미쭈꾸미볶음 500g 3팩',\n",
       " '프리미엄 우삼겹(3초구이 샤브) 250gX4팩',\n",
       " '씨투엠에듀 예비초등수학 구구단/시계와달력 선택구매 (전2권)',\n",
       " '레인OK 프리미엄 발수코팅 에탄올워셔 1800ML 3개',\n",
       " 'DCOVERS/디커버스/반팔티/티셔츠/여성/남자/빅사이즈',\n",
       " '10+5% 바캉스룩 폴햄 외 반팔/래쉬가드/팬츠 외',\n",
       " '특허받은 프레시 아귀포 (대) 10장 약400g W',\n",
       " '단단하고 저장성이 좋은 금곡마을 양파 10kg(장아찌용)',\n",
       " '나비골 국내산 여름별미 열무김치 4kg']"
      ]
     },
     "execution_count": 29,
     "metadata": {},
     "output_type": "execute_result"
    }
   ],
   "source": [
    "title_list"
   ]
  },
  {
   "cell_type": "code",
   "execution_count": null,
   "id": "41240f96",
   "metadata": {},
   "outputs": [],
   "source": []
  }
 ],
 "metadata": {
  "kernelspec": {
   "display_name": "Python 3 (ipykernel)",
   "language": "python",
   "name": "python3"
  },
  "language_info": {
   "codemirror_mode": {
    "name": "ipython",
    "version": 3
   },
   "file_extension": ".py",
   "mimetype": "text/x-python",
   "name": "python",
   "nbconvert_exporter": "python",
   "pygments_lexer": "ipython3",
   "version": "3.9.12"
  }
 },
 "nbformat": 4,
 "nbformat_minor": 5
}
