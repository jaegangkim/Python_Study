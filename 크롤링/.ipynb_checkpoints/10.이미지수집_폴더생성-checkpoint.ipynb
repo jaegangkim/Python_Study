{
 "cells": [
  {
   "cell_type": "code",
   "execution_count": 3,
   "id": "3b81288d",
   "metadata": {},
   "outputs": [],
   "source": [
    "from selenium import webdriver as wb\n",
    "from selenium.webdriver.common.keys import Keys\n",
    "from selenium.webdriver.common.by import By\n",
    "import time\n",
    "import os     # 파일 시스템을 위한 라이브러리(파일, 폴더에 접근)\n",
    "from urllib.request import urlretrieve # 이미지의 url값을 파일로 변형시켜주는 라이브러리"
   ]
  },
  {
   "cell_type": "markdown",
   "id": "d5133e34",
   "metadata": {},
   "source": [
    "## 네이버에서 검색해보고 이미지를 크롤링"
   ]
  },
  {
   "cell_type": "code",
   "execution_count": 20,
   "id": "109b9220",
   "metadata": {},
   "outputs": [],
   "source": [
    "driver = wb.Chrome()\n",
    "driver.get(\"https://www.naver.com/\")"
   ]
  },
  {
   "cell_type": "code",
   "execution_count": 21,
   "id": "f95b708b",
   "metadata": {},
   "outputs": [],
   "source": [
    "# 검색\n",
    "search = driver.find_element(By.ID,\"query\")\n",
    "search.send_keys(\"유희열\")\n",
    "search.send_keys(Keys.ENTER)"
   ]
  },
  {
   "cell_type": "code",
   "execution_count": 22,
   "id": "3833572e",
   "metadata": {},
   "outputs": [],
   "source": [
    "driver.find_element(By.CSS_SELECTOR,\"#lnb > div.lnb_group > div > ul > li:nth-child(4) > a\").click()"
   ]
  },
  {
   "cell_type": "code",
   "execution_count": 26,
   "id": "2324b108",
   "metadata": {},
   "outputs": [
    {
     "data": {
      "text/plain": [
       "150"
      ]
     },
     "execution_count": 26,
     "metadata": {},
     "output_type": "execute_result"
    }
   ],
   "source": [
    "# 이미지 태그 수집\n",
    "imgs = driver.find_elements(By.CSS_SELECTOR,'img._image._listImage')\n",
    "len(imgs)"
   ]
  },
  {
   "cell_type": "code",
   "execution_count": 27,
   "id": "4e81f3c1",
   "metadata": {},
   "outputs": [],
   "source": [
    "# src속성 값 가져오기 :  get_attribute\n",
    "img_url=[i.get_attribute('src') for i in imgs]"
   ]
  },
  {
   "cell_type": "code",
   "execution_count": 32,
   "id": "fab86d04",
   "metadata": {},
   "outputs": [],
   "source": [
    "# 다운로드 받을 폴더 만들기\n",
    "## 바탕화면에 이미지 폴더가 없다면 생성\n",
    "if not os.path.isdir(\"C:/Users/aischool/Desktop/이미지\"):\n",
    "    os.mkdir(\"C:/Users/aischool/Desktop/이미지\")"
   ]
  },
  {
   "cell_type": "code",
   "execution_count": 33,
   "id": "238d50bf",
   "metadata": {},
   "outputs": [],
   "source": [
    "# 폴더에 이미지 저장\n",
    "count = 0 # 이미지 순서\n",
    "for i in img_url:\n",
    "    urlretrieve(i, f\"C:/Users/aischool/Desktop/이미지/{count}.jpg\")\n",
    "    count+=1"
   ]
  },
  {
   "cell_type": "code",
   "execution_count": null,
   "id": "8cce0a4e",
   "metadata": {},
   "outputs": [],
   "source": []
  }
 ],
 "metadata": {
  "kernelspec": {
   "display_name": "Python 3 (ipykernel)",
   "language": "python",
   "name": "python3"
  },
  "language_info": {
   "codemirror_mode": {
    "name": "ipython",
    "version": 3
   },
   "file_extension": ".py",
   "mimetype": "text/x-python",
   "name": "python",
   "nbconvert_exporter": "python",
   "pygments_lexer": "ipython3",
   "version": "3.9.12"
  }
 },
 "nbformat": 4,
 "nbformat_minor": 5
}
