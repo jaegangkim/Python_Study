{
 "cells": [
  {
   "cell_type": "code",
   "execution_count": 1,
   "id": "e0a6e950",
   "metadata": {},
   "outputs": [],
   "source": [
    "from selenium import webdriver as wb\n",
    "from selenium.webdriver.common.keys import Keys\n",
    "from selenium.webdriver.common.by import By\n",
    "import time"
   ]
  },
  {
   "cell_type": "code",
   "execution_count": 27,
   "id": "fe14b6d2",
   "metadata": {},
   "outputs": [
    {
     "name": "stdout",
     "output_type": "stream",
     "text": [
      "낙선재\n",
      "카페산\n",
      "원조최미자소머리국밥 본관\n",
      "초월보리밥 수양점\n",
      "오라운트\n"
     ]
    }
   ],
   "source": [
    "driver = wb.Chrome()\n",
    "driver.get(\"https://map.kakao.com/\")\n",
    "\n",
    "#크롤링을 하려면 지도설정을 없애줘야 함\n",
    "layer = driver.find_element(By.ID,'dimmedLayer')\n",
    "layer.click()\n",
    "time.sleep(1)\n",
    "# 광주맛집 검색, 5개맛집 이름 크롤링\n",
    "search = driver.find_element(By.CLASS_NAME,\"query.tf_keyword.bg_on\")\n",
    "search.send_keys(\"광주맛집\")\n",
    "search.send_keys(Keys.ENTER)\n",
    "time.sleep(1)\n",
    "rice = driver.find_elements(By.CLASS_NAME,\"link_name\")\n",
    "for i in range(5):\n",
    "    print(rice[i].text)"
   ]
  },
  {
   "cell_type": "code",
   "execution_count": null,
   "id": "1bc9f8e6",
   "metadata": {},
   "outputs": [],
   "source": []
  }
 ],
 "metadata": {
  "kernelspec": {
   "display_name": "Python 3 (ipykernel)",
   "language": "python",
   "name": "python3"
  },
  "language_info": {
   "codemirror_mode": {
    "name": "ipython",
    "version": 3
   },
   "file_extension": ".py",
   "mimetype": "text/x-python",
   "name": "python",
   "nbconvert_exporter": "python",
   "pygments_lexer": "ipython3",
   "version": "3.9.12"
  }
 },
 "nbformat": 4,
 "nbformat_minor": 5
}
