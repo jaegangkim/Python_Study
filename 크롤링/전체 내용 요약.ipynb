{
 "cells": [
  {
   "cell_type": "markdown",
   "id": "87fcdade",
   "metadata": {},
   "source": [
    "# 크롤링 접근 방법 3가지\n",
    "- 1. requests로 웹에 요청보내고 응답받고 bs로 처리\n",
    "    - 1~4 실습 \n",
    "- 2. selenium에서 모두 해결\n",
    "    - 5~11 실습\n",
    "- 3. selenium으로 웹에서 응답을 받고 bs로 처리\n",
    "    - 11 마지막 내용"
   ]
  },
  {
   "cell_type": "markdown",
   "id": "ecca6b03",
   "metadata": {},
   "source": [
    "==================================================================="
   ]
  },
  {
   "cell_type": "markdown",
   "id": "f7f8d929",
   "metadata": {},
   "source": [
    "1. requests 활용법\n",
    "    - 기본적인 requests와 beautifulSoup 사용방법\n",
    "    \n",
    "    \n",
    "2. 멜론 차트\n",
    "    - 보안 뚫기 :\n",
    "        user_angenet를 사용해서 400에러 발생 했을 때 접근 허가\n",
    "        \n",
    "        \n",
    "3. 네이버 영화 리뷰 수집\n",
    "    - iframe : 다른창에 띄워진 화면 접근\n",
    "    - 페이지에 접근 할  때 url에서 값을 변경\n",
    "    - tqdm_time 사용\n",
    "    \n",
    "    \n",
    "4. 금융 데이터 수집\n",
    "    - copy selector : 해당 정보만 가져옴, nth-child를 빼면 여러 정보 가능\n",
    "    \n",
    "    \n",
    "5. Selenium 라이브러리\n",
    "    - 웹을 자동으로 제어하기 위한 라이브러리\n",
    "    - selenium 기초\n",
    "    \n",
    "    \n",
    "6. Gmarket 데이터 수집\n",
    "    - 페이지를 왔다갔다하면서 정보 수집하기\n",
    "    - time.sleep()\n",
    "    \n",
    "    \n",
    "7. 한솥 도시락 수집\n",
    "    - 페이지에 정보가 한정적일때 전체 정보를 보는방법\n",
    "    - 예외처리\n",
    "    - ActionChains : 동작을 연결하는 기능\n",
    "    \n",
    "    \n",
    "8. 유튜브 댓글 수집\n",
    "    - 페이지 맨 아래까지 가는방법\n",
    "    - 키보드의 버튼 누르는 방법\n",
    "    \n",
    "    \n",
    "9. 카카오맵 데이터 수집\n",
    "    - 화면을 덮고있는것 제거하는 방법\n",
    "    - 백그라운드에서 데이터 수집하기\n",
    "    \n",
    "    \n",
    "10. 네이버 이미지 수집\n",
    "    - 이미지를 수집하는 방법\n",
    "    - os, urlretrieve\n",
    "    - 태그에서 속성 가져오기\n",
    "    \n",
    "    \n",
    "11. 네이버지도 데이터 수집\n",
    "    - switch_frame : url이 존재하지 않는 iframe에 접근하는 방법\n",
    "    - beautifulsoup과 selenium을 같이 사용하는 방법"
   ]
  },
  {
   "cell_type": "code",
   "execution_count": null,
   "id": "ae7eaf3d",
   "metadata": {},
   "outputs": [],
   "source": []
  }
 ],
 "metadata": {
  "kernelspec": {
   "display_name": "Python 3 (ipykernel)",
   "language": "python",
   "name": "python3"
  },
  "language_info": {
   "codemirror_mode": {
    "name": "ipython",
    "version": 3
   },
   "file_extension": ".py",
   "mimetype": "text/x-python",
   "name": "python",
   "nbconvert_exporter": "python",
   "pygments_lexer": "ipython3",
   "version": "3.9.12"
  }
 },
 "nbformat": 4,
 "nbformat_minor": 5
}
