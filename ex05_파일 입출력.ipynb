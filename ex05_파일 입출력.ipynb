{
 "cells": [
  {
   "cell_type": "markdown",
   "id": "4df4aca5",
   "metadata": {},
   "source": [
    "### 1. 텍스트 파일 생성하기 "
   ]
  },
  {
   "cell_type": "code",
   "execution_count": 1,
   "id": "fb7f983b",
   "metadata": {},
   "outputs": [],
   "source": [
    "'''\n",
    "r : 읽기             w : 덮어쓰기           a : 추가\n",
    "'''\n",
    "\n",
    "# 절대경로 : 실제파일의 정확한 위치 ( \"C://windwos//users//...//a.txt\")\n",
    "# 상대경로 : 특정 위치를 기준으로 상대적인 위치를 쓰는것\n",
    "#            ./.../b.txt         << .은 현재 위치를 뜻함\n",
    "\n",
    "f = open('abc.txt', 'a')\n",
    "f.close()"
   ]
  },
  {
   "cell_type": "code",
   "execution_count": 3,
   "id": "367ac851",
   "metadata": {},
   "outputs": [],
   "source": [
    "f = open(\"./smhrd/bbb.txt\",'w')\n",
    "f.write(\"hello world!!\")\n",
    "f.close()"
   ]
  },
  {
   "cell_type": "code",
   "execution_count": null,
   "id": "141f0d28",
   "metadata": {},
   "outputs": [],
   "source": []
  }
 ],
 "metadata": {
  "kernelspec": {
   "display_name": "Python 3 (ipykernel)",
   "language": "python",
   "name": "python3"
  },
  "language_info": {
   "codemirror_mode": {
    "name": "ipython",
    "version": 3
   },
   "file_extension": ".py",
   "mimetype": "text/x-python",
   "name": "python",
   "nbconvert_exporter": "python",
   "pygments_lexer": "ipython3",
   "version": "3.9.12"
  }
 },
 "nbformat": 4,
 "nbformat_minor": 5
}
