{
 "cells": [
  {
   "cell_type": "markdown",
   "id": "874e7245",
   "metadata": {},
   "source": [
    "### 1. 텍스트 파일 생성하기 "
   ]
  },
  {
   "cell_type": "code",
   "execution_count": 1,
   "id": "59341616",
   "metadata": {},
   "outputs": [],
   "source": [
    "'''\n",
    "r : 읽기             w : 덮어쓰기           a : 추가\n",
    "'''\n",
    "\n",
    "# 절대경로 : 실제파일의 정확한 위치 ( \"C://windwos//users//...//a.txt\")\n",
    "# 상대경로 : 특정 위치를 기준으로 상대적인 위치를 쓰는것\n",
    "#            ./.../b.txt         << .은 현재 위치를 뜻함\n",
    "\n",
    "f = open('abc.txt', 'a')\n",
    "f.close()"
   ]
  },
  {
   "cell_type": "code",
   "execution_count": 9,
   "id": "c8219ed1",
   "metadata": {},
   "outputs": [],
   "source": [
    "f = open(\"./smhrd/bbb.txt\",'w', encoding=\"utf-8\")\n",
    "f.write(\"hello world!!\\n\")\n",
    "f.write(\"안녕하세요!!\")\n",
    "f.close()"
   ]
  },
  {
   "cell_type": "markdown",
   "id": "eb03e396",
   "metadata": {},
   "source": [
    "### 2. 텍스트 읽기 "
   ]
  },
  {
   "cell_type": "code",
   "execution_count": 18,
   "id": "34d452bc",
   "metadata": {},
   "outputs": [
    {
     "name": "stdout",
     "output_type": "stream",
     "text": [
      "hello world!!\n",
      "\n"
     ]
    }
   ],
   "source": [
    "f = open(\"./smhrd/bbb.txt\",'r',encoding='utf-8')\n",
    "data = f.readline()\n",
    "f.close()\n",
    "\n",
    "print(data)"
   ]
  },
  {
   "cell_type": "markdown",
   "id": "824d9f09",
   "metadata": {},
   "source": [
    "### with문 사용하기 "
   ]
  },
  {
   "cell_type": "code",
   "execution_count": 20,
   "id": "1a1c4e85",
   "metadata": {},
   "outputs": [
    {
     "name": "stdout",
     "output_type": "stream",
     "text": [
      "hello world!!\n",
      "\n"
     ]
    }
   ],
   "source": [
    "with open(\"./smhrd/bbb.txt\",'r',encoding=\"utf-8\") as f:\n",
    "    data = f.readline()\n",
    "    print(data)"
   ]
  },
  {
   "cell_type": "code",
   "execution_count": null,
   "id": "38e5cbf2",
   "metadata": {},
   "outputs": [],
   "source": []
  }
 ],
 "metadata": {
  "kernelspec": {
   "display_name": "Python 3 (ipykernel)",
   "language": "python",
   "name": "python3"
  },
  "language_info": {
   "codemirror_mode": {
    "name": "ipython",
    "version": 3
   },
   "file_extension": ".py",
   "mimetype": "text/x-python",
   "name": "python",
   "nbconvert_exporter": "python",
   "pygments_lexer": "ipython3",
   "version": "3.9.12"
  }
 },
 "nbformat": 4,
 "nbformat_minor": 5
}
