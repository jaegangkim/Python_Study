{
 "cells": [
  {
   "cell_type": "markdown",
   "id": "7fddf9ae",
   "metadata": {},
   "source": [
    "### 1. 반복문 사용하기 기초"
   ]
  },
  {
   "cell_type": "code",
   "execution_count": 4,
   "id": "7f511561",
   "metadata": {},
   "outputs": [
    {
     "name": "stdout",
     "output_type": "stream",
     "text": [
      "0\n",
      "1\n",
      "2\n",
      "3\n",
      "4\n",
      "5\n",
      "6\n",
      "7\n",
      "8\n",
      "9\n"
     ]
    }
   ],
   "source": [
    "# while 문\n",
    "a = 0\n",
    "while a<10 :\n",
    "    print(a)\n",
    "    a+=1"
   ]
  },
  {
   "cell_type": "code",
   "execution_count": 5,
   "id": "7eaccbbb",
   "metadata": {},
   "outputs": [
    {
     "name": "stdout",
     "output_type": "stream",
     "text": [
      "hello my name is heado"
     ]
    }
   ],
   "source": [
    "# for문 1\n",
    "for c in \"hello my name is heado\":\n",
    "    print(c,end=\"\")"
   ]
  },
  {
   "cell_type": "code",
   "execution_count": 6,
   "id": "c784fa12",
   "metadata": {},
   "outputs": [
    {
     "name": "stdout",
     "output_type": "stream",
     "text": [
      "apple\n",
      "banana\n",
      "orange\n"
     ]
    }
   ],
   "source": [
    "for item in ('apple', 'banana', 'orange'):\n",
    "    print(item)"
   ]
  },
  {
   "cell_type": "code",
   "execution_count": 8,
   "id": "3790aa22",
   "metadata": {},
   "outputs": [
    {
     "name": "stdout",
     "output_type": "stream",
     "text": [
      "0 1 2 3 4 5 6 7 8 9 "
     ]
    }
   ],
   "source": [
    "# for문 2\n",
    "for i in range(0,10,1):\n",
    "    print(i, end =\" \")"
   ]
  },
  {
   "cell_type": "code",
   "execution_count": 9,
   "id": "87ffde98",
   "metadata": {},
   "outputs": [
    {
     "name": "stdout",
     "output_type": "stream",
     "text": [
      "0 1 2 3 4 5 6 7 8 9 "
     ]
    }
   ],
   "source": [
    "for i in range(10):\n",
    "    print(i, end =\" \")"
   ]
  },
  {
   "cell_type": "markdown",
   "id": "295c9794",
   "metadata": {},
   "source": [
    "예제1"
   ]
  },
  {
   "cell_type": "code",
   "execution_count": 12,
   "id": "a9b3024e",
   "metadata": {},
   "outputs": [
    {
     "name": "stdout",
     "output_type": "stream",
     "text": [
      "3*1 = 3\n",
      "3*2 = 6\n",
      "3*3 = 9\n",
      "3*4 = 12\n",
      "3*5 = 15\n",
      "3*6 = 18\n",
      "3*7 = 21\n",
      "3*8 = 24\n",
      "3*9 = 27\n"
     ]
    }
   ],
   "source": [
    "for i in range(1,10):\n",
    "    print(f\"3*{i} = {3*i}\")"
   ]
  },
  {
   "cell_type": "code",
   "execution_count": 14,
   "id": "a3d26244",
   "metadata": {},
   "outputs": [
    {
     "name": "stdout",
     "output_type": "stream",
     "text": [
      "가장 큰 수는 107이고 3번째에 존재합니다.\n",
      "107\n"
     ]
    }
   ],
   "source": [
    "# 가장 큰 수 찾기 알고리즘\n",
    "num_list = [99,56,7,107,34,17]\n",
    "n = 0\n",
    "for i in num_list:\n",
    "    if i>n:\n",
    "        n = i\n",
    "print(f\"가장 큰 수는 {n}이고 {num_list.index(n)}번째에 존재합니다.\")\n",
    "\n",
    "print(max(num_list))"
   ]
  },
  {
   "cell_type": "markdown",
   "id": "687952cd",
   "metadata": {},
   "source": [
    " 학점 관리 시스템 예제\n"
   ]
  },
  {
   "cell_type": "code",
   "execution_count": 19,
   "id": "2a59554b",
   "metadata": {},
   "outputs": [
    {
     "name": "stdout",
     "output_type": "stream",
     "text": [
      "==============================\n",
      "1.시험점수입력 2.성적확인 3.종료 : 1\n",
      "이름 입력 : 김미희\n",
      "Java 점수 입력 : 95\n",
      "Java 점수 입력 : 88\n",
      "==============================\n",
      "1.시험점수입력 2.성적확인 3.종료 : 1\n",
      "이름 입력 : 엘리스\n",
      "Java 점수 입력 : 77\n",
      "Java 점수 입력 : 65\n",
      "==============================\n",
      "1.시험점수입력 2.성적확인 3.종료 : 2\n",
      "------------------------------\n",
      "이름\tjava\tweb\tgrade\n",
      "------------------------------\n",
      "김미희\t95\t88\tA\n",
      "------------------------------\n",
      "엘리스\t77\t65\tC\n",
      "------------------------------\n",
      "==============================\n",
      "1.시험점수입력 2.성적확인 3.종료 : 3\n"
     ]
    }
   ],
   "source": [
    "\n",
    "grade=[]\n",
    "st = []\n",
    "while True:\n",
    "    print(\"=\"*30)\n",
    "    n = int(input(\"1.시험점수입력 2.성적확인 3.종료 : \"))\n",
    "    if n ==1:\n",
    "        name=(input(\"이름 입력 : \"))\n",
    "        javascore=int(input(\"Java 점수 입력 : \"))\n",
    "        webscore=int(input(\"Java 점수 입력 : \"))\n",
    "        st.append([name,javascore,webscore])\n",
    "        grade.append(0)\n",
    "    elif n == 2:\n",
    "        print(\"-\"*30)\n",
    "        print(\"이름\\tjava\\tweb\\tgrade\")\n",
    "        print(\"-\"*30)\n",
    "        for i in range(len(st)):\n",
    "            sum = st[i][1]+st[i][2]\n",
    "            avg = sum/2\n",
    "            if avg >=90:\n",
    "                grade[i] = \"A\"\n",
    "            elif avg >=80:\n",
    "                grade[i] = \"B\"\n",
    "            elif avg >=70:\n",
    "                grade[i] = \"C\"\n",
    "            elif avg >=60:\n",
    "                grade[i] = \"D\"\n",
    "            else:\n",
    "                grade[i] = \"E\"\n",
    "            \n",
    "            print(f\"{st[i][0]}\\t{st[i][1]}\\t{st[i][2]}\\t{grade[i]}\")\n",
    "            print(\"-\"*30)\n",
    "    else:\n",
    "        break\n",
    "        "
   ]
  },
  {
   "cell_type": "markdown",
   "id": "58e82fcc",
   "metadata": {},
   "source": [
    "### 3. 딕셔너리 \n",
    "- 데이터 탐색이 빠름\n",
    "- 값의 의미 파악 가능\n",
    "- 데이터 순서x\n",
    "- key값은 고유해야 함"
   ]
  },
  {
   "cell_type": "code",
   "execution_count": 21,
   "id": "55a1a9e2",
   "metadata": {},
   "outputs": [
    {
     "name": "stdout",
     "output_type": "stream",
     "text": [
      "1000\n"
     ]
    }
   ],
   "source": [
    "dict1 = {\"name\":\"홍길동\",\"age\":1000,\"weight\":60,'key':'value'}\n",
    "print(dict1[\"age\"])"
   ]
  },
  {
   "cell_type": "code",
   "execution_count": 23,
   "id": "22108c56",
   "metadata": {},
   "outputs": [
    {
     "name": "stdout",
     "output_type": "stream",
     "text": [
      "{'age': 1000, 'weight': 60}\n"
     ]
    }
   ],
   "source": [
    "#데이터 삭제\n",
    "del dict1['key']\n",
    "print(dict1)"
   ]
  },
  {
   "cell_type": "code",
   "execution_count": 24,
   "id": "8ca2609c",
   "metadata": {},
   "outputs": [
    {
     "name": "stdout",
     "output_type": "stream",
     "text": [
      "{'age': 900, 'weight': 60}\n"
     ]
    }
   ],
   "source": [
    "#데이터 수정 or 추가\n",
    "dict1['age']=900\n",
    "print(dict1)"
   ]
  },
  {
   "cell_type": "code",
   "execution_count": 27,
   "id": "83c0de97",
   "metadata": {},
   "outputs": [
    {
     "name": "stdout",
     "output_type": "stream",
     "text": [
      "dict_keys(['age', 'weight'])\n",
      "dict_values([900, 60])\n"
     ]
    }
   ],
   "source": [
    "#유용한 기능들\n",
    "print(dict1.keys()) #모든 키 값\n",
    "print(dict1.values())  #벨류 값"
   ]
  },
  {
   "cell_type": "code",
   "execution_count": 28,
   "id": "c5dbd0ae",
   "metadata": {},
   "outputs": [],
   "source": [
    "#데이터 추출\n",
    "dict1.get(\"age2\")       #없는 값이라 아무것도 얻지 않음"
   ]
  },
  {
   "cell_type": "code",
   "execution_count": 29,
   "id": "c64a9677",
   "metadata": {},
   "outputs": [
    {
     "name": "stdout",
     "output_type": "stream",
     "text": [
      "{}\n"
     ]
    }
   ],
   "source": [
    "#모든 값 삭제\n",
    "dict1.clear()\n",
    "print(dict1)"
   ]
  },
  {
   "cell_type": "code",
   "execution_count": 30,
   "id": "49b8bc14",
   "metadata": {},
   "outputs": [
    {
     "name": "stdout",
     "output_type": "stream",
     "text": [
      "name\n",
      "age\n",
      "weight\n"
     ]
    }
   ],
   "source": [
    "# 반복문과 함께 사용\n",
    "dict2 = {\"name\":\"홍길동2\",\"age\":800,\"weight\":70}\n",
    "for d in dict2:\n",
    "    print(d)           # 키 값만 나옴"
   ]
  },
  {
   "cell_type": "code",
   "execution_count": 31,
   "id": "ff37fca9",
   "metadata": {},
   "outputs": [
    {
     "name": "stdout",
     "output_type": "stream",
     "text": [
      "name 홍길동2\n",
      "age 800\n",
      "weight 70\n"
     ]
    }
   ],
   "source": [
    "for k,v in dict2.items():\n",
    "    print(k,v)"
   ]
  },
  {
   "cell_type": "markdown",
   "id": "7a0a7251",
   "metadata": {},
   "source": [
    "### 4. 집합\n",
    "- 중복 허용 x\n",
    "- 데이터 순서 x"
   ]
  },
  {
   "cell_type": "code",
   "execution_count": 32,
   "id": "3c071a01",
   "metadata": {},
   "outputs": [],
   "source": [
    "s1 = set([1,2,3])\n",
    "s2 = set([3,8,2])"
   ]
  },
  {
   "cell_type": "code",
   "execution_count": 33,
   "id": "04ff8cb2",
   "metadata": {},
   "outputs": [
    {
     "data": {
      "text/plain": [
       "{2, 3}"
      ]
     },
     "execution_count": 33,
     "metadata": {},
     "output_type": "execute_result"
    }
   ],
   "source": [
    "s1 & s2"
   ]
  },
  {
   "cell_type": "code",
   "execution_count": 34,
   "id": "006d649e",
   "metadata": {},
   "outputs": [
    {
     "data": {
      "text/plain": [
       "{1, 2, 3, 8}"
      ]
     },
     "execution_count": 34,
     "metadata": {},
     "output_type": "execute_result"
    }
   ],
   "source": [
    "s1 | s2"
   ]
  },
  {
   "cell_type": "code",
   "execution_count": 36,
   "id": "cffe9904",
   "metadata": {},
   "outputs": [
    {
     "data": {
      "text/plain": [
       "{1}"
      ]
     },
     "execution_count": 36,
     "metadata": {},
     "output_type": "execute_result"
    }
   ],
   "source": [
    "s1-s2"
   ]
  },
  {
   "cell_type": "code",
   "execution_count": null,
   "id": "e0b9d820",
   "metadata": {},
   "outputs": [],
   "source": []
  }
 ],
 "metadata": {
  "kernelspec": {
   "display_name": "Python 3 (ipykernel)",
   "language": "python",
   "name": "python3"
  },
  "language_info": {
   "codemirror_mode": {
    "name": "ipython",
    "version": 3
   },
   "file_extension": ".py",
   "mimetype": "text/x-python",
   "name": "python",
   "nbconvert_exporter": "python",
   "pygments_lexer": "ipython3",
   "version": "3.9.12"
  }
 },
 "nbformat": 4,
 "nbformat_minor": 5
}
