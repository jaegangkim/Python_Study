{
 "cells": [
  {
   "cell_type": "markdown",
   "id": "4ec61247",
   "metadata": {},
   "source": [
    "### 모듈 "
   ]
  },
  {
   "cell_type": "code",
   "execution_count": 1,
   "id": "91f8afd3",
   "metadata": {},
   "outputs": [],
   "source": [
    "def add(a,b):\n",
    "    return a+b"
   ]
  },
  {
   "cell_type": "code",
   "execution_count": 4,
   "id": "e6cc52c3",
   "metadata": {},
   "outputs": [],
   "source": [
    "class Cat:\n",
    "    def __init__(self,name):\n",
    "        self.name = name\n",
    "    def getName(self):\n",
    "        return self.name"
   ]
  },
  {
   "cell_type": "markdown",
   "id": "8ff13299",
   "metadata": {},
   "source": [
    "### 모듈 사용하기 \n",
    "- import"
   ]
  },
  {
   "cell_type": "code",
   "execution_count": 1,
   "id": "26d7b733",
   "metadata": {},
   "outputs": [],
   "source": [
    "import myModule"
   ]
  },
  {
   "cell_type": "code",
   "execution_count": 2,
   "id": "1b2f00cd",
   "metadata": {},
   "outputs": [
    {
     "data": {
      "text/plain": [
       "3"
      ]
     },
     "execution_count": 2,
     "metadata": {},
     "output_type": "execute_result"
    }
   ],
   "source": [
    "myModule.add(1,2)"
   ]
  },
  {
   "cell_type": "code",
   "execution_count": 4,
   "id": "06d64c41",
   "metadata": {},
   "outputs": [
    {
     "data": {
      "text/plain": [
       "'헤롱이'"
      ]
     },
     "execution_count": 4,
     "metadata": {},
     "output_type": "execute_result"
    }
   ],
   "source": [
    "cat1 = myModule.Cat(\"헤롱이\")\n",
    "cat1.getName()"
   ]
  },
  {
   "cell_type": "code",
   "execution_count": 5,
   "id": "93c987f5",
   "metadata": {},
   "outputs": [],
   "source": [
    "import myModule as m"
   ]
  },
  {
   "cell_type": "code",
   "execution_count": 7,
   "id": "48e6c0a7",
   "metadata": {},
   "outputs": [
    {
     "data": {
      "text/plain": [
       "'동동이'"
      ]
     },
     "execution_count": 7,
     "metadata": {},
     "output_type": "execute_result"
    }
   ],
   "source": [
    "cat1 = m.Cat(\"동동이\")\n",
    "cat1.getName()"
   ]
  },
  {
   "cell_type": "code",
   "execution_count": 8,
   "id": "2819d731",
   "metadata": {},
   "outputs": [],
   "source": [
    "# 모듈의 일부만 가져오기\n",
    "#add만 가져오기\n",
    "from myModule import add"
   ]
  },
  {
   "cell_type": "code",
   "execution_count": 9,
   "id": "1bd65a47",
   "metadata": {},
   "outputs": [
    {
     "data": {
      "text/plain": [
       "3"
      ]
     },
     "execution_count": 9,
     "metadata": {},
     "output_type": "execute_result"
    }
   ],
   "source": [
    "add(1,2)"
   ]
  },
  {
   "cell_type": "code",
   "execution_count": 10,
   "id": "33257989",
   "metadata": {},
   "outputs": [],
   "source": [
    "from myModule import Cat"
   ]
  },
  {
   "cell_type": "code",
   "execution_count": 11,
   "id": "bb5f1fc8",
   "metadata": {},
   "outputs": [
    {
     "data": {
      "text/plain": [
       "'치즈'"
      ]
     },
     "execution_count": 11,
     "metadata": {},
     "output_type": "execute_result"
    }
   ],
   "source": [
    "cat3 = Cat(\"치즈\")\n",
    "cat3.getName()"
   ]
  },
  {
   "cell_type": "markdown",
   "id": "c57e8528",
   "metadata": {},
   "source": []
  }
 ],
 "metadata": {
  "kernelspec": {
   "display_name": "Python 3 (ipykernel)",
   "language": "python",
   "name": "python3"
  },
  "language_info": {
   "codemirror_mode": {
    "name": "ipython",
    "version": 3
   },
   "file_extension": ".py",
   "mimetype": "text/x-python",
   "name": "python",
   "nbconvert_exporter": "python",
   "pygments_lexer": "ipython3",
   "version": "3.9.12"
  }
 },
 "nbformat": 4,
 "nbformat_minor": 5
}
