{
 "cells": [
  {
   "cell_type": "markdown",
   "id": "4ec61247",
   "metadata": {},
   "source": [
    "### 모듈 "
   ]
  },
  {
   "cell_type": "code",
   "execution_count": 1,
   "id": "91f8afd3",
   "metadata": {},
   "outputs": [],
   "source": [
    "def add(a,b):\n",
    "    return a+b"
   ]
  },
  {
   "cell_type": "code",
   "execution_count": 4,
   "id": "e6cc52c3",
   "metadata": {},
   "outputs": [],
   "source": [
    "class Cat:\n",
    "    def __init__(self,name):\n",
    "        self.name = name\n",
    "    def getName(self):\n",
    "        return self.name"
   ]
  },
  {
   "cell_type": "markdown",
   "id": "8ff13299",
   "metadata": {},
   "source": [
    "### 모듈 사용하기 \n",
    "- import"
   ]
  },
  {
   "cell_type": "code",
   "execution_count": 21,
   "id": "26d7b733",
   "metadata": {},
   "outputs": [],
   "source": [
    "import myModule"
   ]
  },
  {
   "cell_type": "code",
   "execution_count": 22,
   "id": "1b2f00cd",
   "metadata": {},
   "outputs": [
    {
     "data": {
      "text/plain": [
       "3"
      ]
     },
     "execution_count": 22,
     "metadata": {},
     "output_type": "execute_result"
    }
   ],
   "source": [
    "myModule.add(1,2)"
   ]
  },
  {
   "cell_type": "code",
   "execution_count": 23,
   "id": "06d64c41",
   "metadata": {},
   "outputs": [
    {
     "ename": "TypeError",
     "evalue": "Cat() takes no arguments",
     "output_type": "error",
     "traceback": [
      "\u001b[1;31m---------------------------------------------------------------------------\u001b[0m",
      "\u001b[1;31mTypeError\u001b[0m                                 Traceback (most recent call last)",
      "Input \u001b[1;32mIn [23]\u001b[0m, in \u001b[0;36m<cell line: 1>\u001b[1;34m()\u001b[0m\n\u001b[1;32m----> 1\u001b[0m cat1 \u001b[38;5;241m=\u001b[39m \u001b[43mmyModule\u001b[49m\u001b[38;5;241;43m.\u001b[39;49m\u001b[43mCat\u001b[49m\u001b[43m(\u001b[49m\u001b[38;5;124;43m\"\u001b[39;49m\u001b[38;5;124;43m헤롱이\u001b[39;49m\u001b[38;5;124;43m\"\u001b[39;49m\u001b[43m)\u001b[49m\n\u001b[0;32m      2\u001b[0m cat1\u001b[38;5;241m.\u001b[39mgetName\n",
      "\u001b[1;31mTypeError\u001b[0m: Cat() takes no arguments"
     ]
    }
   ],
   "source": [
    "cat1 = myModule.Cat(\"헤롱이\")\n",
    "cat1.getName"
   ]
  },
  {
   "cell_type": "code",
   "execution_count": 24,
   "id": "93c987f5",
   "metadata": {},
   "outputs": [],
   "source": [
    "import myModule as m"
   ]
  },
  {
   "cell_type": "code",
   "execution_count": 25,
   "id": "48e6c0a7",
   "metadata": {},
   "outputs": [],
   "source": [
    "cat1 = m.Cat()"
   ]
  },
  {
   "cell_type": "code",
   "execution_count": 26,
   "id": "2819d731",
   "metadata": {},
   "outputs": [],
   "source": [
    "# 모듈의 일부만 가져오기\n",
    "#add만 가져오기\n",
    "from myModule import add"
   ]
  },
  {
   "cell_type": "code",
   "execution_count": 27,
   "id": "1bd65a47",
   "metadata": {},
   "outputs": [
    {
     "data": {
      "text/plain": [
       "3"
      ]
     },
     "execution_count": 27,
     "metadata": {},
     "output_type": "execute_result"
    }
   ],
   "source": [
    "add(1,2)"
   ]
  },
  {
   "cell_type": "code",
   "execution_count": 29,
   "id": "33257989",
   "metadata": {},
   "outputs": [],
   "source": [
    "from myModule import Cat"
   ]
  },
  {
   "cell_type": "code",
   "execution_count": null,
   "id": "bb5f1fc8",
   "metadata": {},
   "outputs": [],
   "source": []
  },
  {
   "cell_type": "code",
   "execution_count": null,
   "id": "d74fc62b",
   "metadata": {},
   "outputs": [],
   "source": []
  }
 ],
 "metadata": {
  "kernelspec": {
   "display_name": "Python 3 (ipykernel)",
   "language": "python",
   "name": "python3"
  },
  "language_info": {
   "codemirror_mode": {
    "name": "ipython",
    "version": 3
   },
   "file_extension": ".py",
   "mimetype": "text/x-python",
   "name": "python",
   "nbconvert_exporter": "python",
   "pygments_lexer": "ipython3",
   "version": "3.9.12"
  }
 },
 "nbformat": 4,
 "nbformat_minor": 5
}
