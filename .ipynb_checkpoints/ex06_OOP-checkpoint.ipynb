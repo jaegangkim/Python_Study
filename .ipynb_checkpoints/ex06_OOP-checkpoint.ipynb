{
 "cells": [
  {
   "cell_type": "markdown",
   "id": "be0e92d0",
   "metadata": {},
   "source": [
    "### 클래스(Class)\n",
    "- 객체의 속성과 행동을 정의하는 설계도"
   ]
  },
  {
   "cell_type": "code",
   "execution_count": 1,
   "id": "64b61cce",
   "metadata": {},
   "outputs": [],
   "source": [
    "class Person :\n",
    "    name = \"\"\n",
    "    age = 0\n",
    "    height = 0\n",
    "    \n",
    "    def eat():\n",
    "        print(\"먹다\")\n",
    "        \n",
    "    def walk():\n",
    "        print(\"걷다\")"
   ]
  },
  {
   "cell_type": "markdown",
   "id": "1c388f17",
   "metadata": {},
   "source": [
    "### 객체(Object)\n",
    "- 클래스로부터 실체화 된 대상"
   ]
  },
  {
   "cell_type": "code",
   "execution_count": 4,
   "id": "640648b0",
   "metadata": {},
   "outputs": [],
   "source": [
    "a = Person()\n",
    "b = Person()\n",
    "c = Person()"
   ]
  },
  {
   "cell_type": "markdown",
   "id": "016cc5d8",
   "metadata": {},
   "source": [
    "###### 자판기 프로그램 "
   ]
  },
  {
   "cell_type": "code",
   "execution_count": 85,
   "id": "a44a7e2b",
   "metadata": {},
   "outputs": [],
   "source": [
    "class VendingMachine :\n",
    "    def __init__(self):\n",
    "        self.money=0\n",
    "        self.choice=0\n",
    "        print(\"=\"*30)\n",
    "        print(\"자판기 프로그램\")\n",
    "        print(\"=\"*30)\n",
    "    def inputMoney(self):\n",
    "        self.money = int(input(\"돈을 넣어주세요 >> \"))\n",
    "    def choiceMenu(self):\n",
    "        self.choice = int(input(\"1.콜라(500) 2.생수(700) 3.비타민워터(1500) >> \"))\n",
    "    def changeMoney(self):\n",
    "        if self.choice == 1 :\n",
    "            self.money -= 500\n",
    "        elif self.choice == 2 :\n",
    "            self.money -= 700\n",
    "        elif self.choice == 3 :\n",
    "            self.money -= 1500\n",
    "        if self.money < 0 :\n",
    "            print(\"돈이 부족합니다.\")\n",
    "        else :\n",
    "            print(f\"잔돈 : {self.money}\")\n",
    "            print(f\"1000원 : {self.money//1000} 개\")\n",
    "            print(f\"500원 : {self.money%1000//500} 개\")\n",
    "            print(f\"100원 : {self.money%1000%500//100} 개\")\n",
    "    "
   ]
  },
  {
   "cell_type": "code",
   "execution_count": 86,
   "id": "95d1090c",
   "metadata": {},
   "outputs": [
    {
     "name": "stdout",
     "output_type": "stream",
     "text": [
      "==============================\n",
      "자판기 프로그램\n",
      "==============================\n",
      "돈을 넣어주세요 >> 23200\n",
      "1.콜라(500) 2.생수(700) 3.비타민워터(1500) >> 2\n",
      "잔돈 : 22500\n",
      "1000원 : 22 개\n",
      "500원 : 1 개\n",
      "100원 : 0 개\n"
     ]
    }
   ],
   "source": [
    "v1 = VendingMachine()\n",
    "v1.inputMoney()\n",
    "v1.choiceMenu()\n",
    "v1.changeMoney()"
   ]
  },
  {
   "cell_type": "markdown",
   "id": "1c2ca6b9",
   "metadata": {},
   "source": [
    "### 클래스변수와 인스턴스변수\n",
    "- 클래스변수 : 모든 객체가 공통으로 가지는 변수\n",
    "- 인스턴스변수 : 각 객체가 개별적으로 사용하는 변수"
   ]
  },
  {
   "cell_type": "code",
   "execution_count": 23,
   "id": "c6756fe7",
   "metadata": {},
   "outputs": [],
   "source": [
    "class Cat:\n",
    "    # 클래스 변수\n",
    "    scientific_name=\"Felis catus\"\n",
    "    \n",
    "    def eat(self, food):\n",
    "        self.hungry = 0"
   ]
  },
  {
   "cell_type": "code",
   "execution_count": 24,
   "id": "2fba3bc7",
   "metadata": {},
   "outputs": [],
   "source": [
    "#인스턴스 생성\n",
    "cat1 = Cat()\n",
    "cat2 = Cat()"
   ]
  },
  {
   "cell_type": "code",
   "execution_count": 32,
   "id": "a9ba2774",
   "metadata": {},
   "outputs": [
    {
     "name": "stdout",
     "output_type": "stream",
     "text": [
      "Felic catus !! Felic catus !!\n"
     ]
    }
   ],
   "source": [
    "#변수 접근하기\n",
    "# 1. 클래스 변수 ( 클래스명.클래스변수)\n",
    "Cat.scientific_name = 'Felic catus !!'\n",
    "Cat.scientific_name"
   ]
  },
  {
   "cell_type": "code",
   "execution_count": 33,
   "id": "1e4c79fa",
   "metadata": {},
   "outputs": [
    {
     "data": {
      "text/plain": [
       "0"
      ]
     },
     "execution_count": 33,
     "metadata": {},
     "output_type": "execute_result"
    }
   ],
   "source": [
    "# 2. 인스턴스 변수 ( 객체명.인스턴스변수)\n",
    "cat1.eat(\"사과\")\n",
    "cat1.hungry"
   ]
  },
  {
   "cell_type": "code",
   "execution_count": 35,
   "id": "ad5174b1",
   "metadata": {},
   "outputs": [
    {
     "data": {
      "text/plain": [
       "100"
      ]
     },
     "execution_count": 35,
     "metadata": {},
     "output_type": "execute_result"
    }
   ],
   "source": [
    "cat1.hungry = 100\n",
    "cat1.hungry"
   ]
  },
  {
   "cell_type": "code",
   "execution_count": 43,
   "id": "9b1c29e8",
   "metadata": {},
   "outputs": [
    {
     "data": {
      "text/plain": [
       "'Felic catus !!'"
      ]
     },
     "execution_count": 43,
     "metadata": {},
     "output_type": "execute_result"
    }
   ],
   "source": [
    "cat1.scientific_name       # 인스턴스 변수가 없으면 클래스변수를 참조"
   ]
  },
  {
   "cell_type": "code",
   "execution_count": 50,
   "id": "9b338466",
   "metadata": {},
   "outputs": [
    {
     "data": {
      "text/plain": [
       "'붉은색'"
      ]
     },
     "execution_count": 50,
     "metadata": {},
     "output_type": "execute_result"
    }
   ],
   "source": [
    "# 각 인스턴스마다 정의하지 않았던 고유한 인스턴스변수 생성도 가능\n",
    "cat1.color = \"붉은색\"   \n",
    "cat1.color"
   ]
  },
  {
   "cell_type": "markdown",
   "id": "f3465e74",
   "metadata": {},
   "source": [
    "### 접근제한, 캡슐화\n",
    "- 캡슐화 : 관련된 Data와 Logic을 하나의 Class로 묶어주는 행위\n",
    "  - 장점 \n",
    "    - 1. 관련된 데이터와 로직이 묶여서 관리가 편하다.\n",
    "    - 2. 코드간 결합도가 낮아져서 유연한 프로그램이 될 수 있다.\n",
    "    - 3. 데이터를 보고(접근 제한) 할 수 있다."
   ]
  },
  {
   "cell_type": "code",
   "execution_count": 69,
   "id": "9fc45888",
   "metadata": {},
   "outputs": [],
   "source": [
    "class Cat:\n",
    "    # 클래스 변수\n",
    "    scientific_name=\"Felis catus\"\n",
    "    \n",
    "    def eat(self, food):\n",
    "        self.__hungry = 0\n",
    "        self.scientific_name = \"학명\"\n",
    "        \n",
    "    # setter 메소드\n",
    "    def setHungry(self, value):\n",
    "        if value >= 0 and value<=100:\n",
    "            self.__hungry = value\n",
    "    # getter 메소드\n",
    "    def getHungry(self):\n",
    "        return self.__hungry"
   ]
  },
  {
   "cell_type": "code",
   "execution_count": 70,
   "id": "1fa40e82",
   "metadata": {},
   "outputs": [],
   "source": [
    "cat3 = Cat()\n",
    "cat3.eat(\"사료\")"
   ]
  },
  {
   "cell_type": "code",
   "execution_count": 73,
   "id": "90fb8826",
   "metadata": {},
   "outputs": [],
   "source": [
    "cat3.setHungry(500)"
   ]
  },
  {
   "cell_type": "code",
   "execution_count": 74,
   "id": "90d83872",
   "metadata": {},
   "outputs": [
    {
     "data": {
      "text/plain": [
       "50"
      ]
     },
     "execution_count": 74,
     "metadata": {},
     "output_type": "execute_result"
    }
   ],
   "source": [
    "cat3.getHungry()"
   ]
  },
  {
   "cell_type": "markdown",
   "id": "8cf84fe9",
   "metadata": {},
   "source": [
    "### 생성자\n",
    "- 객체를 생성 할 때 호출하는 메소드\n",
    "- 각 객체에 대한 메모리공간 확보\n",
    "- 문법 : 클래스이름()"
   ]
  },
  {
   "cell_type": "code",
   "execution_count": 79,
   "id": "118e9bc0",
   "metadata": {},
   "outputs": [],
   "source": [
    "class Cat:\n",
    "    # 클래스 변수\n",
    "    scientific_name=\"Felis catus\"\n",
    "    def __init__(self,name):      ## 생성자 호출 시 함꼐 호출되는 메소드\n",
    "        self.name = name\n",
    "        \n",
    "    def eat(self, food):\n",
    "        self.__hungry = 0\n",
    "        self.scientific_name = \"학명\"\n",
    "        \n",
    "    # setter 메소드\n",
    "    def setHungry(self, value):\n",
    "        if value >= 0 and value<=100:\n",
    "            self.__hungry = value\n",
    "    # getter 메소드\n",
    "    def getHungry(self):\n",
    "        return self.__hungry"
   ]
  },
  {
   "cell_type": "code",
   "execution_count": 82,
   "id": "9d78c19f",
   "metadata": {},
   "outputs": [
    {
     "data": {
      "text/plain": [
       "'찰스'"
      ]
     },
     "execution_count": 82,
     "metadata": {},
     "output_type": "execute_result"
    }
   ],
   "source": [
    "cat4 = Cat(\"찰스\") \n",
    "cat4.name"
   ]
  },
  {
   "cell_type": "markdown",
   "id": "29f2a2eb",
   "metadata": {},
   "source": [
    "### 고양이 시뮬레이터\n",
    "- 1. 고양이 생성   2. 고양이 먹이주기   3. 고양이 배 만지기\n",
    "- 고양이가 가지는 변수 : 스트레스 지수, 배고픔\n",
    "- 기능\n",
    "    1. 고양이 이름 지어서 생성\n",
    "    2. 스트레스지수 깎임, 배고픔 깎임\n",
    "    3. 스트레스지수가 많이 오름"
   ]
  },
  {
   "cell_type": "code",
   "execution_count": 93,
   "id": "2d94115f",
   "metadata": {},
   "outputs": [],
   "source": [
    "class Meow:\n",
    "    def __init__(self,name):\n",
    "        self.name = name\n",
    "        self.stress = 50\n",
    "        self.hungry = 100\n",
    "    def eat(self,food):\n",
    "        self.hungry -= 30\n",
    "        self.stress -= 30\n",
    "    def touch(self):\n",
    "        self.stress +=50\n",
    "        if self.stress>= 100:\n",
    "            print(\"캬아앜\")"
   ]
  },
  {
   "cell_type": "code",
   "execution_count": 94,
   "id": "4e9b74c2",
   "metadata": {},
   "outputs": [
    {
     "data": {
      "text/plain": [
       "'aaa'"
      ]
     },
     "execution_count": 94,
     "metadata": {},
     "output_type": "execute_result"
    }
   ],
   "source": [
    "cat1 = Meow(\"aaa\")\n",
    "cat1.name"
   ]
  },
  {
   "cell_type": "code",
   "execution_count": 95,
   "id": "00384335",
   "metadata": {},
   "outputs": [
    {
     "name": "stdout",
     "output_type": "stream",
     "text": [
      "20 70\n"
     ]
    }
   ],
   "source": [
    "cat1.eat(\"밥\")\n",
    "print(cat1.stress, cat1.hungry)"
   ]
  },
  {
   "cell_type": "code",
   "execution_count": 97,
   "id": "91434b45",
   "metadata": {},
   "outputs": [
    {
     "name": "stdout",
     "output_type": "stream",
     "text": [
      "캬아앜\n",
      "120 70\n"
     ]
    }
   ],
   "source": [
    "cat1.touch()\n",
    "print(cat1.stress, cat1.hungry)"
   ]
  },
  {
   "cell_type": "markdown",
   "id": "bd8ce6cf",
   "metadata": {},
   "source": [
    "###### 저금통 시뮬레이터 만들기 "
   ]
  },
  {
   "cell_type": "code",
   "execution_count": 108,
   "id": "44f7c217",
   "metadata": {},
   "outputs": [],
   "source": [
    "class Bank():\n",
    "    def __init__(self):\n",
    "        self.money = 0\n",
    "        print(\"=== 저금통 ===\")\n",
    "    def deposit(self,money):\n",
    "        self.money += money\n",
    "    def withdraw(self,money):\n",
    "        if self.money<money:\n",
    "            print(\"돈이 부족합니다.\")\n",
    "        else:\n",
    "            self.money-= money\n",
    "    def showMoney(self):\n",
    "        print(\"잔액 :\",self.money)"
   ]
  },
  {
   "cell_type": "code",
   "execution_count": 114,
   "id": "0b5fd04c",
   "metadata": {},
   "outputs": [
    {
     "name": "stdout",
     "output_type": "stream",
     "text": [
      "1.입금 2.출금 3.잔액확인 4.종료3\n",
      "잔액 : 16000\n",
      "1.입금 2.출금 3.잔액확인 4.종료4\n"
     ]
    }
   ],
   "source": [
    "while True:\n",
    "    choice = int(input(\"1.입금 2.출금 3.잔액확인 4.종료 >> \"))\n",
    "    if choice == 1:\n",
    "        inputMoney = int(input(\"입금 할 금액 입력 : \"))\n",
    "        pig.deposit(inputMoney)\n",
    "    elif choice == 2:\n",
    "        outputMoney = int(input(\"출금 할 금액 입력 : \"))\n",
    "        pig.withdraw(outputMoney)\n",
    "    elif choice == 3:\n",
    "        pig.showMoney()\n",
    "    else:\n",
    "        break"
   ]
  },
  {
   "cell_type": "markdown",
   "id": "5067963f",
   "metadata": {},
   "source": [
    "### 상속\n",
    "- super(부모)클래스로부터 sub(자식)클래스에게 변수, 메소드를 물려주는 기법\n",
    "- 코드의 중복성 x ,  재사용성 ↑"
   ]
  },
  {
   "cell_type": "code",
   "execution_count": 115,
   "id": "7f15de55",
   "metadata": {},
   "outputs": [],
   "source": [
    "class SuperClass:\n",
    "    def show(self):\n",
    "        print(\"국가 이름 :\",self.name)\n",
    "\n",
    "class SubClass(SuperClass):\n",
    "    def __init__(self,name):\n",
    "        self.name = name"
   ]
  },
  {
   "cell_type": "code",
   "execution_count": null,
   "id": "37b5a512",
   "metadata": {},
   "outputs": [],
   "source": []
  },
  {
   "cell_type": "code",
   "execution_count": null,
   "id": "97ad0b8b",
   "metadata": {},
   "outputs": [],
   "source": []
  }
 ],
 "metadata": {
  "kernelspec": {
   "display_name": "Python 3 (ipykernel)",
   "language": "python",
   "name": "python3"
  },
  "language_info": {
   "codemirror_mode": {
    "name": "ipython",
    "version": 3
   },
   "file_extension": ".py",
   "mimetype": "text/x-python",
   "name": "python",
   "nbconvert_exporter": "python",
   "pygments_lexer": "ipython3",
   "version": "3.9.12"
  }
 },
 "nbformat": 4,
 "nbformat_minor": 5
}
